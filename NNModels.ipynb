{
 "cells": [
  {
   "cell_type": "markdown",
   "metadata": {},
   "source": [
    "# Personality Analysis Network\n",
    "## An Artificial Neural Network to analyze the Big Five Personality Traits"
   ]
  },
  {
   "cell_type": "markdown",
   "metadata": {},
   "source": [
    "### Import Required Libraries "
   ]
  },
  {
   "cell_type": "code",
   "execution_count": 1,
   "metadata": {
    "ExecuteTime": {
     "end_time": "2020-04-09T10:35:11.043192Z",
     "start_time": "2020-04-09T10:34:20.372829Z"
    }
   },
   "outputs": [
    {
     "name": "stderr",
     "output_type": "stream",
     "text": [
      "Using TensorFlow backend.\n"
     ]
    }
   ],
   "source": [
    "import numpy as np\n",
    "import matplotlib.pyplot as plt\n",
    "import pandas as pd\n",
    "\n",
    "from sklearn.preprocessing import MinMaxScaler,StandardScaler\n",
    "from sklearn.metrics import *\n",
    "from sklearn.preprocessing import OneHotEncoder,LabelEncoder\n",
    "from sklearn.model_selection import cross_val_score\n",
    "from sklearn.model_selection import KFold\n",
    "from sklearn.model_selection import train_test_split\n",
    "\n",
    "from keras.models import Sequential\n",
    "from keras.layers import *\n",
    "from keras.models import Sequential\n",
    "from keras.layers import Dense, Activation"
   ]
  },
  {
   "cell_type": "markdown",
   "metadata": {},
   "source": [
    "### Load the Dataset"
   ]
  },
  {
   "cell_type": "code",
   "execution_count": 2,
   "metadata": {
    "ExecuteTime": {
     "end_time": "2020-04-09T10:36:14.233632Z",
     "start_time": "2020-04-09T10:36:14.105136Z"
    }
   },
   "outputs": [
    {
     "data": {
      "text/plain": [
       "((96, 13), (96, 11))"
      ]
     },
     "execution_count": 2,
     "metadata": {},
     "output_type": "execute_result"
    }
   ],
   "source": [
    "x = pd.read_csv('Csv/x_features.csv')\n",
    "y = pd.read_csv('Csv/y_features.csv')\n",
    "x.shape, y.shape"
   ]
  },
  {
   "cell_type": "markdown",
   "metadata": {},
   "source": [
    "## Preprocessing"
   ]
  },
  {
   "cell_type": "markdown",
   "metadata": {},
   "source": [
    "### 1. Scale the features in the range [0 - 1]"
   ]
  },
  {
   "cell_type": "code",
   "execution_count": 3,
   "metadata": {
    "ExecuteTime": {
     "end_time": "2020-04-09T10:36:15.951501Z",
     "start_time": "2020-04-09T10:36:15.918461Z"
    }
   },
   "outputs": [
    {
     "data": {
      "text/plain": [
       "Index(['baseline', 'pen_pressure', 'letter_size', 'word_spacing',\n",
       "       'line_spacing', 'width', 'height', 'bar-height'],\n",
       "      dtype='object')"
      ]
     },
     "execution_count": 3,
     "metadata": {},
     "output_type": "execute_result"
    }
   ],
   "source": [
    "y_raw = y[['id','N (Raw)','E (Raw)','O (Raw)','A (Raw)','C(Raw)']].copy()\n",
    "y_t = y[['id','N (T score)','E(T score)','O (T score)','A (T score)','C(T score)']].copy()\n",
    "\n",
    "x.drop('id',inplace=True,axis=1)\n",
    "y_raw.drop('id',inplace=True,axis=1)\n",
    "y_t.drop('id',inplace=True,axis=1)\n",
    "\n",
    "scaler1=MinMaxScaler()\n",
    "scaler2=MinMaxScaler()\n",
    "scaler3=MinMaxScaler()\n",
    "scaler4=MinMaxScaler()\n",
    "scaler5=MinMaxScaler()\n",
    "scaler6=MinMaxScaler()\n",
    "scaler7=MinMaxScaler()\n",
    "scaler8=MinMaxScaler()\n",
    "\n",
    "x.drop(['Qualifiaction','Name ','Age ','Gender'],axis=1,inplace=True)\n",
    "\n",
    "x['baseline']=scaler1.fit_transform(np.array(x['baseline']).reshape(-1,1))\n",
    "x['pen_pressure']=scaler2.fit_transform(np.array(x['pen_pressure']).reshape(-1,1))\n",
    "x['letter_size']=scaler3.fit_transform(np.array(x['letter_size']).reshape(-1,1))\n",
    "x['line_spacing']=scaler4.fit_transform(np.array(x['line_spacing']).reshape(-1,1))\n",
    "x['word_spacing']=scaler5.fit_transform(np.array(x['word_spacing']).reshape(-1,1))\n",
    "x['width']=scaler6.fit_transform(np.array(x['width']).reshape(-1,1))\n",
    "x['height']=scaler7.fit_transform(np.array(x['height']).reshape(-1,1))\n",
    "x['bar-height']=scaler8.fit_transform(np.array(x['bar-height']).reshape(-1,1))\n",
    "x.columns"
   ]
  },
  {
   "cell_type": "markdown",
   "metadata": {},
   "source": [
    "### 2. Generate Categorical Labels from Scores"
   ]
  },
  {
   "cell_type": "code",
   "execution_count": 4,
   "metadata": {
    "ExecuteTime": {
     "end_time": "2020-04-09T10:36:16.968744Z",
     "start_time": "2020-04-09T10:36:16.841758Z"
    }
   },
   "outputs": [
    {
     "data": {
      "text/plain": [
       "((96,), (96,), (96,), (96,), (96,))"
      ]
     },
     "execution_count": 4,
     "metadata": {},
     "output_type": "execute_result"
    }
   ],
   "source": [
    "#labels y \n",
    "\n",
    "for i in range(len(y_t)):\n",
    "    if(y_t['N (T score)'][i]>=26 and y_t['N (T score)'][i]<=34):\n",
    "        y_t['N (T score)'][i]=0\n",
    "        \n",
    "    elif(y_t['N (T score)'][i]>=35 and y_t['N (T score)'][i]<=44):\n",
    "        y_t['N (T score)'][i]=1\n",
    "        \n",
    "    elif(y_t['N (T score)'][i]>=45 and y_t['N (T score)'][i]<=55):\n",
    "        y_t['N (T score)'][i]=2\n",
    "        \n",
    "    elif(y_t['N (T score)'][i]>=56 and y_t['N (T score)'][i]<=65):\n",
    "        y_t['N (T score)'][i]=3\n",
    "     \n",
    "    elif(y_t['N (T score)'][i]>=66 and y_t['N (T score)'][i]<=74):\n",
    "        y_t['N (T score)'][i]=4\n",
    "        \n",
    "    \n",
    "        \n",
    "    \n",
    "    if(y_t['E(T score)'][i]>=26 and y_t['E(T score)'][i]<=34):\n",
    "        y_t['E(T score)'][i]=0\n",
    "        \n",
    "    elif(y_t['E(T score)'][i]>=35 and y_t['E(T score)'][i]<=44):\n",
    "        y_t['E(T score)'][i]=1\n",
    "        \n",
    "    elif(y_t['E(T score)'][i]>=45 and y_t['E(T score)'][i]<=55):\n",
    "        y_t['E(T score)'][i]=2\n",
    "        \n",
    "    elif(y_t['E(T score)'][i]>=56 and y_t['E(T score)'][i]<=65):\n",
    "        y_t['E(T score)'][i]=3\n",
    "        \n",
    "    elif(y_t['E(T score)'][i]>=66 and y_t['E(T score)'][i]<=74):\n",
    "        y_t['E(T score)'][i]=4\n",
    "    \n",
    "    \n",
    "    \n",
    "    if(y_t['O (T score)'][i]>=26 and y_t['O (T score)'][i]<=34):\n",
    "        y_t['O (T score)'][i]=0\n",
    "        \n",
    "    elif(y_t['O (T score)'][i]>=35 and y_t['O (T score)'][i]<=44):\n",
    "        y_t['O (T score)'][i]=1\n",
    "        \n",
    "    elif(y_t['O (T score)'][i]>=45 and y_t['O (T score)'][i]<=55):\n",
    "        y_t['O (T score)'][i]=2\n",
    "        \n",
    "    elif(y_t['O (T score)'][i]>=56 and y_t['O (T score)'][i]<=65):\n",
    "        y_t['O (T score)'][i]=3\n",
    "        \n",
    "    elif(y_t['O (T score)'][i]>=66 and y_t['O (T score)'][i]<=74):\n",
    "        y_t['O (T score)'][i]=4\n",
    "    \n",
    "        \n",
    "    \n",
    "    if(y_t['A (T score)'][i]>=26 and y_t['A (T score)'][i]<=34):\n",
    "        y_t['A (T score)'][i]=0\n",
    "        \n",
    "    elif(y_t['A (T score)'][i]>=35 and y_t['A (T score)'][i]<=44):\n",
    "        y_t['A (T score)'][i]=1\n",
    "        \n",
    "    elif(y_t['A (T score)'][i]>=45 and y_t['A (T score)'][i]<=55):\n",
    "        y_t['A (T score)'][i]=2\n",
    "        \n",
    "    elif(y_t['A (T score)'][i]>=56 and y_t['A (T score)'][i]<=65):\n",
    "        y_t['A (T score)'][i]=3\n",
    "        \n",
    "    elif(y_t['A (T score)'][i]>=66 and y_t['A (T score)'][i]<=74):\n",
    "        y_t['A (T score)'][i]=4\n",
    "        \n",
    "   \n",
    " \n",
    "    if(y_t['C(T score)'][i]>=26 and y_t['C(T score)'][i]<=34):\n",
    "        y_t['C(T score)'][i]=0\n",
    "        \n",
    "    elif(y_t['C(T score)'][i]>=35 and y_t['C(T score)'][i]<=44):\n",
    "        y_t['C(T score)'][i]=1\n",
    "        \n",
    "    elif(y_t['C(T score)'][i]>=45 and y_t['C(T score)'][i]<=55):\n",
    "        y_t['C(T score)'][i]=2\n",
    "        \n",
    "    elif(y_t['C(T score)'][i]>=56 and y_t['C(T score)'][i]<=65):\n",
    "        y_t['C(T score)'][i]=3\n",
    "        \n",
    "    elif(y_t['C(T score)'][i]>=66 and y_t['C(T score)'][i]<=74):\n",
    "        y_t['C(T score)'][i]=4\n",
    "    \n",
    "    else:\n",
    "        incorrect_ids.append(y_t['id'][i])\n",
    "\n",
    "y_t1=np.array(y_t['N (T score)'])\n",
    "y_t2=np.array(y_t['E(T score)'])\n",
    "y_t3=np.array(y_t['O (T score)'])\n",
    "y_t4=np.array(y_t['A (T score)'])\n",
    "y_t5=np.array(y_t['C(T score)'])\n",
    "\n",
    "y_t1.astype(float)\n",
    "y_t2.astype(float)\n",
    "y_t3.astype(float)\n",
    "y_t4.astype(float)\n",
    "y_t5.astype(float)\n",
    "\n",
    "y_t1.shape,y_t2.shape,y_t3.shape,y_t4.shape,y_t5.shape"
   ]
  },
  {
   "cell_type": "code",
   "execution_count": 5,
   "metadata": {},
   "outputs": [],
   "source": [
    "from keras.utils.np_utils import to_categorical\n",
    "\n",
    "y_t1ohe = to_categorical(y_t1,num_classes=5)\n",
    "y_t2ohe = to_categorical(y_t2,num_classes=5)\n",
    "y_t3ohe = to_categorical(y_t3,num_classes=5)\n",
    "y_t4ohe = to_categorical(y_t4,num_classes=5)\n",
    "y_t5ohe = to_categorical(y_t5,num_classes=5)"
   ]
  },
  {
   "cell_type": "markdown",
   "metadata": {},
   "source": [
    "### 3. Generate the Training and Testing Sets for the 5 Personalities"
   ]
  },
  {
   "cell_type": "code",
   "execution_count": 6,
   "metadata": {
    "ExecuteTime": {
     "end_time": "2020-04-09T10:36:28.173389Z",
     "start_time": "2020-04-09T10:36:28.107945Z"
    }
   },
   "outputs": [],
   "source": [
    "# X_train2, X_test2, y_train2, y_test2 = train_test_split(x, y_t1ohe,test_size=0.2, random_state=42)\n",
    "# X_train3, X_test3, y_train3, y_test3 = train_test_split(x, y_t2ohe,test_size=0.2, random_state=42)\n",
    "# X_train4, X_test4, y_train4, y_test4 = train_test_split(x, y_t3ohe,test_size=0.2, random_state=42)\n",
    "# X_train5, X_test5, y_train5, y_test5 = train_test_split(x, y_t4ohe,test_size=0.2, random_state=42)\n",
    "# X_train6, X_test6, y_train6, y_test6 = train_test_split(x, y_t5ohe,test_size=0.2, random_state=42)\n",
    "\n",
    "X_train2, X_test2, y_train2, y_test2 = train_test_split(x, y_t1,test_size=0.2, random_state=42)\n",
    "X_train3, X_test3, y_train3, y_test3 = train_test_split(x, y_t2,test_size=0.2, random_state=42)\n",
    "X_train4, X_test4, y_train4, y_test4 = train_test_split(x, y_t3,test_size=0.2, random_state=42)\n",
    "X_train5, X_test5, y_train5, y_test5 = train_test_split(x, y_t4,test_size=0.2, random_state=42)\n",
    "X_train6, X_test6, y_train6, y_test6 = train_test_split(x, y_t5,test_size=0.2, random_state=42)"
   ]
  },
  {
   "cell_type": "markdown",
   "metadata": {},
   "source": [
    "## Model Construction and Training"
   ]
  },
  {
   "cell_type": "markdown",
   "metadata": {},
   "source": [
    "### 1. Define the model architecture for Neurotocism"
   ]
  },
  {
   "cell_type": "code",
   "execution_count": 11,
   "metadata": {
    "ExecuteTime": {
     "end_time": "2020-04-09T10:36:56.801418Z",
     "start_time": "2020-04-09T10:36:33.598437Z"
    },
    "scrolled": true
   },
   "outputs": [
    {
     "name": "stdout",
     "output_type": "stream",
     "text": [
      "Model: \"sequential_2\"\n",
      "_________________________________________________________________\n",
      "Layer (type)                 Output Shape              Param #   \n",
      "=================================================================\n",
      "dense_5 (Dense)              (None, 1)                 9         \n",
      "_________________________________________________________________\n",
      "dense_6 (Dense)              (None, 2)                 4         \n",
      "_________________________________________________________________\n",
      "dense_7 (Dense)              (None, 3)                 9         \n",
      "_________________________________________________________________\n",
      "dense_8 (Dense)              (None, 5)                 20        \n",
      "=================================================================\n",
      "Total params: 42\n",
      "Trainable params: 42\n",
      "Non-trainable params: 0\n",
      "_________________________________________________________________\n"
     ]
    }
   ],
   "source": [
    "model_2 = Sequential()\n",
    "model_2.add(Dense(1, input_dim=8, kernel_initializer='glorot_uniform', activation='relu'))\n",
    "model_2.add(Dense(2, kernel_initializer='glorot_uniform', activation='relu'))\n",
    "model_2.add(Dense(3, kernel_initializer='glorot_uniform', activation='relu'))\n",
    "model_2.add(Dense(5, kernel_initializer='glorot_uniform',activation='softmax'))\n",
    "# reduce_lr = ReduceLROnPlateau(monitor='val_loss', factor=0.2,patience=5, min_lr=0.001)\n",
    "# Compile model\n",
    "model_2.compile(loss='sparse_categorical_crossentropy', optimizer='rmsprop', metrics=['sparse_categorical_accuracy'])\n",
    "model_2.summary()"
   ]
  },
  {
   "cell_type": "markdown",
   "metadata": {},
   "source": [
    "### 2. Train the model"
   ]
  },
  {
   "cell_type": "code",
   "execution_count": 14,
   "metadata": {},
   "outputs": [
    {
     "name": "stdout",
     "output_type": "stream",
     "text": [
      "WARNING:tensorflow:From D:\\Anaconda\\envs\\dl\\lib\\site-packages\\keras\\backend\\tensorflow_backend.py:422: The name tf.global_variables is deprecated. Please use tf.compat.v1.global_variables instead.\n",
      "\n",
      "Train on 76 samples, validate on 20 samples\n",
      "Epoch 1/100\n",
      "76/76 [==============================] - 2s 31ms/step - loss: 1.5952 - sparse_categorical_accuracy: 0.3553 - val_loss: 1.5650 - val_sparse_categorical_accuracy: 0.7000\n",
      "Epoch 2/100\n",
      "76/76 [==============================] - 0s 735us/step - loss: 1.5761 - sparse_categorical_accuracy: 0.5789 - val_loss: 1.5448 - val_sparse_categorical_accuracy: 0.7000\n",
      "Epoch 3/100\n",
      "76/76 [==============================] - 0s 709us/step - loss: 1.5596 - sparse_categorical_accuracy: 0.5789 - val_loss: 1.5264 - val_sparse_categorical_accuracy: 0.7000\n",
      "Epoch 4/100\n",
      "76/76 [==============================] - 0s 656us/step - loss: 1.5438 - sparse_categorical_accuracy: 0.5789 - val_loss: 1.5035 - val_sparse_categorical_accuracy: 0.7000\n",
      "Epoch 5/100\n",
      "76/76 [==============================] - 0s 682us/step - loss: 1.5269 - sparse_categorical_accuracy: 0.5789 - val_loss: 1.4855 - val_sparse_categorical_accuracy: 0.7000\n",
      "Epoch 6/100\n",
      "76/76 [==============================] - 0s 630us/step - loss: 1.5123 - sparse_categorical_accuracy: 0.5789 - val_loss: 1.4683 - val_sparse_categorical_accuracy: 0.7000\n",
      "Epoch 7/100\n",
      "76/76 [==============================] - 0s 642us/step - loss: 1.4971 - sparse_categorical_accuracy: 0.5789 - val_loss: 1.4464 - val_sparse_categorical_accuracy: 0.7000\n",
      "Epoch 8/100\n",
      "76/76 [==============================] - 0s 643us/step - loss: 1.4802 - sparse_categorical_accuracy: 0.5789 - val_loss: 1.4278 - val_sparse_categorical_accuracy: 0.7000\n",
      "Epoch 9/100\n",
      "76/76 [==============================] - 0s 604us/step - loss: 1.4650 - sparse_categorical_accuracy: 0.5789 - val_loss: 1.4046 - val_sparse_categorical_accuracy: 0.7000\n",
      "Epoch 10/100\n",
      "76/76 [==============================] - 0s 604us/step - loss: 1.4470 - sparse_categorical_accuracy: 0.5789 - val_loss: 1.3783 - val_sparse_categorical_accuracy: 0.7000\n",
      "Epoch 11/100\n",
      "76/76 [==============================] - 0s 577us/step - loss: 1.4269 - sparse_categorical_accuracy: 0.5789 - val_loss: 1.3559 - val_sparse_categorical_accuracy: 0.7000\n",
      "Epoch 12/100\n",
      "76/76 [==============================] - 0s 538us/step - loss: 1.4099 - sparse_categorical_accuracy: 0.5789 - val_loss: 1.3327 - val_sparse_categorical_accuracy: 0.7000\n",
      "Epoch 13/100\n",
      "76/76 [==============================] - 0s 538us/step - loss: 1.3906 - sparse_categorical_accuracy: 0.5789 - val_loss: 1.3026 - val_sparse_categorical_accuracy: 0.7000\n",
      "Epoch 14/100\n",
      "76/76 [==============================] - 0s 578us/step - loss: 1.3685 - sparse_categorical_accuracy: 0.5789 - val_loss: 1.2783 - val_sparse_categorical_accuracy: 0.7000\n",
      "Epoch 15/100\n",
      "76/76 [==============================] - 0s 591us/step - loss: 1.3508 - sparse_categorical_accuracy: 0.5789 - val_loss: 1.2523 - val_sparse_categorical_accuracy: 0.7000\n",
      "Epoch 16/100\n",
      "76/76 [==============================] - 0s 578us/step - loss: 1.3312 - sparse_categorical_accuracy: 0.5789 - val_loss: 1.2295 - val_sparse_categorical_accuracy: 0.7000\n",
      "Epoch 17/100\n",
      "76/76 [==============================] - 0s 591us/step - loss: 1.3126 - sparse_categorical_accuracy: 0.5789 - val_loss: 1.2005 - val_sparse_categorical_accuracy: 0.7000\n",
      "Epoch 18/100\n",
      "76/76 [==============================] - 0s 538us/step - loss: 1.2912 - sparse_categorical_accuracy: 0.5789 - val_loss: 1.1709 - val_sparse_categorical_accuracy: 0.7000\n",
      "Epoch 19/100\n",
      "76/76 [==============================] - 0s 552us/step - loss: 1.2715 - sparse_categorical_accuracy: 0.5789 - val_loss: 1.1442 - val_sparse_categorical_accuracy: 0.7000\n",
      "Epoch 20/100\n",
      "76/76 [==============================] - 0s 577us/step - loss: 1.2535 - sparse_categorical_accuracy: 0.5789 - val_loss: 1.1190 - val_sparse_categorical_accuracy: 0.7000\n",
      "Epoch 21/100\n",
      "76/76 [==============================] - 0s 591us/step - loss: 1.2353 - sparse_categorical_accuracy: 0.5789 - val_loss: 1.0946 - val_sparse_categorical_accuracy: 0.7000\n",
      "Epoch 22/100\n",
      "76/76 [==============================] - 0s 538us/step - loss: 1.2186 - sparse_categorical_accuracy: 0.5789 - val_loss: 1.0702 - val_sparse_categorical_accuracy: 0.7000\n",
      "Epoch 23/100\n",
      "76/76 [==============================] - 0s 551us/step - loss: 1.2035 - sparse_categorical_accuracy: 0.5789 - val_loss: 1.0499 - val_sparse_categorical_accuracy: 0.7000\n",
      "Epoch 24/100\n",
      "76/76 [==============================] - 0s 538us/step - loss: 1.1895 - sparse_categorical_accuracy: 0.5789 - val_loss: 1.0368 - val_sparse_categorical_accuracy: 0.7000\n",
      "Epoch 25/100\n",
      "76/76 [==============================] - 0s 617us/step - loss: 1.1783 - sparse_categorical_accuracy: 0.5789 - val_loss: 1.0225 - val_sparse_categorical_accuracy: 0.7000\n",
      "Epoch 26/100\n",
      "76/76 [==============================] - 0s 564us/step - loss: 1.1672 - sparse_categorical_accuracy: 0.5789 - val_loss: 1.0058 - val_sparse_categorical_accuracy: 0.7000\n",
      "Epoch 27/100\n",
      "76/76 [==============================] - 0s 604us/step - loss: 1.1558 - sparse_categorical_accuracy: 0.5789 - val_loss: 0.9891 - val_sparse_categorical_accuracy: 0.7000\n",
      "Epoch 28/100\n",
      "76/76 [==============================] - 0s 578us/step - loss: 1.1453 - sparse_categorical_accuracy: 0.5789 - val_loss: 0.9748 - val_sparse_categorical_accuracy: 0.7000\n",
      "Epoch 29/100\n",
      "76/76 [==============================] - 0s 577us/step - loss: 1.1353 - sparse_categorical_accuracy: 0.5789 - val_loss: 0.9678 - val_sparse_categorical_accuracy: 0.7000\n",
      "Epoch 30/100\n",
      "76/76 [==============================] - 0s 590us/step - loss: 1.1290 - sparse_categorical_accuracy: 0.5789 - val_loss: 0.9591 - val_sparse_categorical_accuracy: 0.7000\n",
      "Epoch 31/100\n",
      "76/76 [==============================] - 0s 604us/step - loss: 1.1189 - sparse_categorical_accuracy: 0.5789 - val_loss: 0.9466 - val_sparse_categorical_accuracy: 0.7000\n",
      "Epoch 32/100\n",
      "76/76 [==============================] - 0s 551us/step - loss: 1.1114 - sparse_categorical_accuracy: 0.5789 - val_loss: 0.9398 - val_sparse_categorical_accuracy: 0.7000\n",
      "Epoch 33/100\n",
      "76/76 [==============================] - 0s 643us/step - loss: 1.1046 - sparse_categorical_accuracy: 0.5789 - val_loss: 0.9291 - val_sparse_categorical_accuracy: 0.7000\n",
      "Epoch 34/100\n",
      "76/76 [==============================] - 0s 551us/step - loss: 1.0978 - sparse_categorical_accuracy: 0.5789 - val_loss: 0.9204 - val_sparse_categorical_accuracy: 0.7000\n",
      "Epoch 35/100\n",
      "76/76 [==============================] - 0s 551us/step - loss: 1.0908 - sparse_categorical_accuracy: 0.5789 - val_loss: 0.9115 - val_sparse_categorical_accuracy: 0.7000\n",
      "Epoch 36/100\n",
      "76/76 [==============================] - 0s 577us/step - loss: 1.0845 - sparse_categorical_accuracy: 0.5789 - val_loss: 0.9077 - val_sparse_categorical_accuracy: 0.7000\n",
      "Epoch 37/100\n",
      "76/76 [==============================] - 0s 630us/step - loss: 1.0791 - sparse_categorical_accuracy: 0.5789 - val_loss: 0.8993 - val_sparse_categorical_accuracy: 0.7000\n",
      "Epoch 38/100\n",
      "76/76 [==============================] - 0s 525us/step - loss: 1.0735 - sparse_categorical_accuracy: 0.5789 - val_loss: 0.8947 - val_sparse_categorical_accuracy: 0.7000\n",
      "Epoch 39/100\n",
      "76/76 [==============================] - 0s 577us/step - loss: 1.0683 - sparse_categorical_accuracy: 0.5789 - val_loss: 0.8930 - val_sparse_categorical_accuracy: 0.7000\n",
      "Epoch 40/100\n",
      "76/76 [==============================] - 0s 538us/step - loss: 1.0640 - sparse_categorical_accuracy: 0.5789 - val_loss: 0.8893 - val_sparse_categorical_accuracy: 0.7000\n",
      "Epoch 41/100\n",
      "76/76 [==============================] - 0s 551us/step - loss: 1.0597 - sparse_categorical_accuracy: 0.5789 - val_loss: 0.8867 - val_sparse_categorical_accuracy: 0.7000\n",
      "Epoch 42/100\n",
      "76/76 [==============================] - 0s 617us/step - loss: 1.0551 - sparse_categorical_accuracy: 0.5789 - val_loss: 0.8842 - val_sparse_categorical_accuracy: 0.7000\n",
      "Epoch 43/100\n",
      "76/76 [==============================] - 0s 564us/step - loss: 1.0515 - sparse_categorical_accuracy: 0.5789 - val_loss: 0.8824 - val_sparse_categorical_accuracy: 0.7000\n",
      "Epoch 44/100\n",
      "76/76 [==============================] - 0s 577us/step - loss: 1.0478 - sparse_categorical_accuracy: 0.5789 - val_loss: 0.8814 - val_sparse_categorical_accuracy: 0.7000\n"
     ]
    },
    {
     "name": "stdout",
     "output_type": "stream",
     "text": [
      "Epoch 45/100\n",
      "76/76 [==============================] - 0s 551us/step - loss: 1.0448 - sparse_categorical_accuracy: 0.5789 - val_loss: 0.8780 - val_sparse_categorical_accuracy: 0.7000\n",
      "Epoch 46/100\n",
      "76/76 [==============================] - 0s 564us/step - loss: 1.0416 - sparse_categorical_accuracy: 0.5789 - val_loss: 0.8713 - val_sparse_categorical_accuracy: 0.7000\n",
      "Epoch 47/100\n",
      "76/76 [==============================] - 0s 682us/step - loss: 1.0391 - sparse_categorical_accuracy: 0.5789 - val_loss: 0.8659 - val_sparse_categorical_accuracy: 0.7000\n",
      "Epoch 48/100\n",
      "76/76 [==============================] - 0s 591us/step - loss: 1.0358 - sparse_categorical_accuracy: 0.5789 - val_loss: 0.8652 - val_sparse_categorical_accuracy: 0.7000\n",
      "Epoch 49/100\n",
      "76/76 [==============================] - 0s 564us/step - loss: 1.0334 - sparse_categorical_accuracy: 0.5789 - val_loss: 0.8597 - val_sparse_categorical_accuracy: 0.7000\n",
      "Epoch 50/100\n",
      "76/76 [==============================] - 0s 525us/step - loss: 1.0310 - sparse_categorical_accuracy: 0.5789 - val_loss: 0.8552 - val_sparse_categorical_accuracy: 0.7000\n",
      "Epoch 51/100\n",
      "76/76 [==============================] - 0s 525us/step - loss: 1.0296 - sparse_categorical_accuracy: 0.5789 - val_loss: 0.8510 - val_sparse_categorical_accuracy: 0.7000\n",
      "Epoch 52/100\n",
      "76/76 [==============================] - 0s 551us/step - loss: 1.0262 - sparse_categorical_accuracy: 0.5789 - val_loss: 0.8481 - val_sparse_categorical_accuracy: 0.7000\n",
      "Epoch 53/100\n",
      "76/76 [==============================] - 0s 539us/step - loss: 1.0245 - sparse_categorical_accuracy: 0.5789 - val_loss: 0.8491 - val_sparse_categorical_accuracy: 0.7000\n",
      "Epoch 54/100\n",
      "76/76 [==============================] - 0s 538us/step - loss: 1.0217 - sparse_categorical_accuracy: 0.5789 - val_loss: 0.8456 - val_sparse_categorical_accuracy: 0.7000\n",
      "Epoch 55/100\n",
      "76/76 [==============================] - 0s 538us/step - loss: 1.0205 - sparse_categorical_accuracy: 0.5789 - val_loss: 0.8419 - val_sparse_categorical_accuracy: 0.7000\n",
      "Epoch 56/100\n",
      "76/76 [==============================] - 0s 551us/step - loss: 1.0181 - sparse_categorical_accuracy: 0.5789 - val_loss: 0.8389 - val_sparse_categorical_accuracy: 0.7000\n",
      "Epoch 57/100\n",
      "76/76 [==============================] - 0s 578us/step - loss: 1.0167 - sparse_categorical_accuracy: 0.5789 - val_loss: 0.8370 - val_sparse_categorical_accuracy: 0.7000\n",
      "Epoch 58/100\n",
      "76/76 [==============================] - 0s 551us/step - loss: 1.0160 - sparse_categorical_accuracy: 0.5789 - val_loss: 0.8342 - val_sparse_categorical_accuracy: 0.7000\n",
      "Epoch 59/100\n",
      "76/76 [==============================] - 0s 564us/step - loss: 1.0140 - sparse_categorical_accuracy: 0.5789 - val_loss: 0.8329 - val_sparse_categorical_accuracy: 0.7000\n",
      "Epoch 60/100\n",
      "76/76 [==============================] - 0s 516us/step - loss: 1.0132 - sparse_categorical_accuracy: 0.5789 - val_loss: 0.8307 - val_sparse_categorical_accuracy: 0.7000\n",
      "Epoch 61/100\n",
      "76/76 [==============================] - 0s 551us/step - loss: 1.0115 - sparse_categorical_accuracy: 0.5789 - val_loss: 0.8326 - val_sparse_categorical_accuracy: 0.7000\n",
      "Epoch 62/100\n",
      "76/76 [==============================] - 0s 590us/step - loss: 1.0092 - sparse_categorical_accuracy: 0.5789 - val_loss: 0.8300 - val_sparse_categorical_accuracy: 0.7000\n",
      "Epoch 63/100\n",
      "76/76 [==============================] - 0s 525us/step - loss: 1.0087 - sparse_categorical_accuracy: 0.5789 - val_loss: 0.8274 - val_sparse_categorical_accuracy: 0.7000\n",
      "Epoch 64/100\n",
      "76/76 [==============================] - 0s 538us/step - loss: 1.0071 - sparse_categorical_accuracy: 0.5789 - val_loss: 0.8307 - val_sparse_categorical_accuracy: 0.7000\n",
      "Epoch 65/100\n",
      "76/76 [==============================] - 0s 577us/step - loss: 1.0052 - sparse_categorical_accuracy: 0.5789 - val_loss: 0.8286 - val_sparse_categorical_accuracy: 0.7000\n",
      "Epoch 66/100\n",
      "76/76 [==============================] - 0s 551us/step - loss: 1.0052 - sparse_categorical_accuracy: 0.5789 - val_loss: 0.8305 - val_sparse_categorical_accuracy: 0.7000\n",
      "Epoch 67/100\n",
      "76/76 [==============================] - 0s 552us/step - loss: 1.0025 - sparse_categorical_accuracy: 0.5789 - val_loss: 0.8280 - val_sparse_categorical_accuracy: 0.7000\n",
      "Epoch 68/100\n",
      "76/76 [==============================] - 0s 564us/step - loss: 1.0020 - sparse_categorical_accuracy: 0.5789 - val_loss: 0.8299 - val_sparse_categorical_accuracy: 0.7000\n",
      "Epoch 69/100\n",
      "76/76 [==============================] - 0s 551us/step - loss: 1.0003 - sparse_categorical_accuracy: 0.5789 - val_loss: 0.8269 - val_sparse_categorical_accuracy: 0.7000\n",
      "Epoch 70/100\n",
      "76/76 [==============================] - 0s 565us/step - loss: 1.0006 - sparse_categorical_accuracy: 0.5789 - val_loss: 0.8246 - val_sparse_categorical_accuracy: 0.7000\n",
      "Epoch 71/100\n",
      "76/76 [==============================] - 0s 538us/step - loss: 0.9991 - sparse_categorical_accuracy: 0.5789 - val_loss: 0.8227 - val_sparse_categorical_accuracy: 0.7000\n",
      "Epoch 72/100\n",
      "76/76 [==============================] - 0s 551us/step - loss: 0.9990 - sparse_categorical_accuracy: 0.5789 - val_loss: 0.8209 - val_sparse_categorical_accuracy: 0.7000\n",
      "Epoch 73/100\n",
      "76/76 [==============================] - 0s 630us/step - loss: 0.9982 - sparse_categorical_accuracy: 0.5789 - val_loss: 0.8202 - val_sparse_categorical_accuracy: 0.7000\n",
      "Epoch 74/100\n",
      "76/76 [==============================] - 0s 604us/step - loss: 0.9967 - sparse_categorical_accuracy: 0.5789 - val_loss: 0.8200 - val_sparse_categorical_accuracy: 0.7000\n",
      "Epoch 75/100\n",
      "76/76 [==============================] - 0s 564us/step - loss: 0.9967 - sparse_categorical_accuracy: 0.5789 - val_loss: 0.8230 - val_sparse_categorical_accuracy: 0.7000\n",
      "Epoch 76/100\n",
      "76/76 [==============================] - 0s 551us/step - loss: 0.9948 - sparse_categorical_accuracy: 0.5789 - val_loss: 0.8213 - val_sparse_categorical_accuracy: 0.7000\n",
      "Epoch 77/100\n",
      "76/76 [==============================] - 0s 564us/step - loss: 0.9952 - sparse_categorical_accuracy: 0.5789 - val_loss: 0.8239 - val_sparse_categorical_accuracy: 0.7000\n",
      "Epoch 78/100\n",
      "76/76 [==============================] - 0s 551us/step - loss: 0.9934 - sparse_categorical_accuracy: 0.5789 - val_loss: 0.8214 - val_sparse_categorical_accuracy: 0.7000\n",
      "Epoch 79/100\n",
      "76/76 [==============================] - 0s 551us/step - loss: 0.9930 - sparse_categorical_accuracy: 0.5789 - val_loss: 0.8239 - val_sparse_categorical_accuracy: 0.7000\n",
      "Epoch 80/100\n",
      "76/76 [==============================] - 0s 564us/step - loss: 0.9926 - sparse_categorical_accuracy: 0.5789 - val_loss: 0.8256 - val_sparse_categorical_accuracy: 0.7000\n",
      "Epoch 81/100\n",
      "76/76 [==============================] - 0s 552us/step - loss: 0.9918 - sparse_categorical_accuracy: 0.5789 - val_loss: 0.8235 - val_sparse_categorical_accuracy: 0.7000\n",
      "Epoch 82/100\n",
      "76/76 [==============================] - 0s 590us/step - loss: 0.9912 - sparse_categorical_accuracy: 0.5789 - val_loss: 0.8213 - val_sparse_categorical_accuracy: 0.7000\n",
      "Epoch 83/100\n",
      "76/76 [==============================] - 0s 551us/step - loss: 0.9911 - sparse_categorical_accuracy: 0.5789 - val_loss: 0.8195 - val_sparse_categorical_accuracy: 0.7000\n",
      "Epoch 84/100\n",
      "76/76 [==============================] - 0s 591us/step - loss: 0.9900 - sparse_categorical_accuracy: 0.5789 - val_loss: 0.8166 - val_sparse_categorical_accuracy: 0.7000\n",
      "Epoch 85/100\n",
      "76/76 [==============================] - 0s 572us/step - loss: 0.9900 - sparse_categorical_accuracy: 0.5789 - val_loss: 0.8144 - val_sparse_categorical_accuracy: 0.7000\n",
      "Epoch 86/100\n",
      "76/76 [==============================] - 0s 551us/step - loss: 0.9900 - sparse_categorical_accuracy: 0.5789 - val_loss: 0.8172 - val_sparse_categorical_accuracy: 0.7000\n",
      "Epoch 87/100\n",
      "76/76 [==============================] - 0s 538us/step - loss: 0.9891 - sparse_categorical_accuracy: 0.5789 - val_loss: 0.8150 - val_sparse_categorical_accuracy: 0.7000\n",
      "Epoch 88/100\n",
      "76/76 [==============================] - 0s 551us/step - loss: 0.9882 - sparse_categorical_accuracy: 0.5789 - val_loss: 0.8184 - val_sparse_categorical_accuracy: 0.7000\n",
      "Epoch 89/100\n",
      "76/76 [==============================] - 0s 564us/step - loss: 0.9882 - sparse_categorical_accuracy: 0.5789 - val_loss: 0.8205 - val_sparse_categorical_accuracy: 0.7000\n",
      "Epoch 90/100\n"
     ]
    },
    {
     "name": "stdout",
     "output_type": "stream",
     "text": [
      "76/76 [==============================] - 0s 538us/step - loss: 0.9867 - sparse_categorical_accuracy: 0.5789 - val_loss: 0.8234 - val_sparse_categorical_accuracy: 0.7000\n",
      "Epoch 91/100\n",
      "76/76 [==============================] - 0s 551us/step - loss: 0.9874 - sparse_categorical_accuracy: 0.5789 - val_loss: 0.8211 - val_sparse_categorical_accuracy: 0.7000\n",
      "Epoch 92/100\n",
      "76/76 [==============================] - 0s 538us/step - loss: 0.9864 - sparse_categorical_accuracy: 0.5789 - val_loss: 0.8192 - val_sparse_categorical_accuracy: 0.7000\n",
      "Epoch 93/100\n",
      "76/76 [==============================] - 0s 538us/step - loss: 0.9866 - sparse_categorical_accuracy: 0.5789 - val_loss: 0.8167 - val_sparse_categorical_accuracy: 0.7000\n",
      "Epoch 94/100\n",
      "76/76 [==============================] - 0s 552us/step - loss: 0.9860 - sparse_categorical_accuracy: 0.5789 - val_loss: 0.8156 - val_sparse_categorical_accuracy: 0.7000\n",
      "Epoch 95/100\n",
      "76/76 [==============================] - 0s 538us/step - loss: 0.9857 - sparse_categorical_accuracy: 0.5789 - val_loss: 0.8134 - val_sparse_categorical_accuracy: 0.7000\n",
      "Epoch 96/100\n",
      "76/76 [==============================] - 0s 564us/step - loss: 0.9858 - sparse_categorical_accuracy: 0.5789 - val_loss: 0.8121 - val_sparse_categorical_accuracy: 0.7000\n",
      "Epoch 97/100\n",
      "76/76 [==============================] - 0s 590us/step - loss: 0.9854 - sparse_categorical_accuracy: 0.5789 - val_loss: 0.8150 - val_sparse_categorical_accuracy: 0.7000\n",
      "Epoch 98/100\n",
      "76/76 [==============================] - 0s 551us/step - loss: 0.9856 - sparse_categorical_accuracy: 0.5789 - val_loss: 0.8176 - val_sparse_categorical_accuracy: 0.7000\n",
      "Epoch 99/100\n",
      "76/76 [==============================] - 0s 525us/step - loss: 0.9839 - sparse_categorical_accuracy: 0.5789 - val_loss: 0.8194 - val_sparse_categorical_accuracy: 0.7000\n",
      "Epoch 100/100\n",
      "76/76 [==============================] - 0s 578us/step - loss: 0.9841 - sparse_categorical_accuracy: 0.5789 - val_loss: 0.8173 - val_sparse_categorical_accuracy: 0.7000\n"
     ]
    }
   ],
   "source": [
    "hist = model_2.fit(X_train2,y_train2,validation_data=(X_test2,y_test2),epochs=100,batch_size=5)"
   ]
  },
  {
   "cell_type": "markdown",
   "metadata": {},
   "source": [
    "### 3. Make Predictions"
   ]
  },
  {
   "cell_type": "code",
   "execution_count": 20,
   "metadata": {
    "ExecuteTime": {
     "end_time": "2020-04-09T10:41:12.820878Z",
     "start_time": "2020-04-09T10:41:12.450143Z"
    }
   },
   "outputs": [
    {
     "name": "stdout",
     "output_type": "stream",
     "text": [
      "0.7\n"
     ]
    }
   ],
   "source": [
    "from sklearn.metrics import f1_score\n",
    "preds = model_2.predict(X_test2)\n",
    "preds = np.array([np.argmax(a) for a in preds])\n",
    "print(f1_score(y_test2,preds,average='micro'))"
   ]
  },
  {
   "cell_type": "code",
   "execution_count": 42,
   "metadata": {
    "ExecuteTime": {
     "end_time": "2020-04-09T10:41:47.344210Z",
     "start_time": "2020-04-09T10:41:45.905679Z"
    }
   },
   "outputs": [
    {
     "data": {
      "image/png": "[encoded data removed]",
      "text/plain": [
       "<Figure size 432x288 with 1 Axes>"
      ]
     },
     "metadata": {
      "needs_background": "light"
     },
     "output_type": "display_data"
    }
   ],
   "source": [
    "plt.plot(hist.history[\"loss\"],label=\"train_loss\")\n",
    "plt.plot(hist.history[\"val_loss\"],label=\"val_loss\")\n",
    "plt.title(\"Loss Curve for Personality Type N\")\n",
    "plt.xlabel(\"Epoch #\")\n",
    "plt.ylabel(\"Loss\")\n",
    "plt.legend(loc=\"lower left\")\n",
    "plt.savefig(\"ModelforN.png\")\n",
    "model_2.save('N.h5')"
   ]
  },
  {
   "cell_type": "code",
   "execution_count": 23,
   "metadata": {
    "ExecuteTime": {
     "end_time": "2020-04-09T10:41:50.592304Z",
     "start_time": "2020-04-09T10:41:50.220772Z"
    }
   },
   "outputs": [],
   "source": [
    "model_3 = Sequential()\n",
    "model_3.add(Dense(1, input_dim=8, kernel_initializer='glorot_uniform', activation='relu'))\n",
    "model_3.add(Dense(2, kernel_initializer='glorot_uniform', activation='relu'))\n",
    "model_3.add(Dense(3, kernel_initializer='glorot_uniform', activation='relu'))\n",
    "model_3.add(Dense(5, kernel_initializer='glorot_uniform',activation='softmax'))\n",
    "# Compile model\n",
    "model_3.compile(loss='sparse_categorical_crossentropy', optimizer='rmsprop', metrics=['sparse_categorical_accuracy'])"
   ]
  },
  {
   "cell_type": "code",
   "execution_count": 24,
   "metadata": {
    "ExecuteTime": {
     "end_time": "2020-04-09T10:41:56.729008Z",
     "start_time": "2020-04-09T10:41:51.128873Z"
    }
   },
   "outputs": [
    {
     "name": "stdout",
     "output_type": "stream",
     "text": [
      "Train on 76 samples, validate on 20 samples\n",
      "Epoch 1/100\n",
      "76/76 [==============================] - 0s 2ms/step - loss: 1.5727 - sparse_categorical_accuracy: 0.3553 - val_loss: 1.5694 - val_sparse_categorical_accuracy: 0.1000\n",
      "Epoch 2/100\n",
      "76/76 [==============================] - 0s 577us/step - loss: 1.5389 - sparse_categorical_accuracy: 0.3553 - val_loss: 1.5427 - val_sparse_categorical_accuracy: 0.1000\n",
      "Epoch 3/100\n",
      "76/76 [==============================] - 0s 577us/step - loss: 1.5092 - sparse_categorical_accuracy: 0.3553 - val_loss: 1.5165 - val_sparse_categorical_accuracy: 0.1000\n",
      "Epoch 4/100\n",
      "76/76 [==============================] - 0s 577us/step - loss: 1.4783 - sparse_categorical_accuracy: 0.3553 - val_loss: 1.4909 - val_sparse_categorical_accuracy: 0.1000\n",
      "Epoch 5/100\n",
      "76/76 [==============================] - 0s 551us/step - loss: 1.4460 - sparse_categorical_accuracy: 0.3553 - val_loss: 1.4615 - val_sparse_categorical_accuracy: 0.1000\n",
      "Epoch 6/100\n",
      "76/76 [==============================] - 0s 564us/step - loss: 1.4132 - sparse_categorical_accuracy: 0.3553 - val_loss: 1.4332 - val_sparse_categorical_accuracy: 0.1000\n",
      "Epoch 7/100\n",
      "76/76 [==============================] - 0s 564us/step - loss: 1.3785 - sparse_categorical_accuracy: 0.3553 - val_loss: 1.4041 - val_sparse_categorical_accuracy: 0.1000\n",
      "Epoch 8/100\n",
      "76/76 [==============================] - 0s 604us/step - loss: 1.3439 - sparse_categorical_accuracy: 0.3553 - val_loss: 1.3745 - val_sparse_categorical_accuracy: 0.1000\n",
      "Epoch 9/100\n",
      "76/76 [==============================] - 0s 564us/step - loss: 1.3094 - sparse_categorical_accuracy: 0.3553 - val_loss: 1.3441 - val_sparse_categorical_accuracy: 0.1000\n",
      "Epoch 10/100\n",
      "76/76 [==============================] - 0s 551us/step - loss: 1.2749 - sparse_categorical_accuracy: 0.3553 - val_loss: 1.3112 - val_sparse_categorical_accuracy: 0.1000\n",
      "Epoch 11/100\n",
      "76/76 [==============================] - 0s 616us/step - loss: 1.2402 - sparse_categorical_accuracy: 0.3553 - val_loss: 1.2771 - val_sparse_categorical_accuracy: 0.1000\n",
      "Epoch 12/100\n",
      "76/76 [==============================] - 0s 580us/step - loss: 1.2052 - sparse_categorical_accuracy: 0.3553 - val_loss: 1.2471 - val_sparse_categorical_accuracy: 0.1000\n",
      "Epoch 13/100\n",
      "76/76 [==============================] - 0s 564us/step - loss: 1.1755 - sparse_categorical_accuracy: 0.3553 - val_loss: 1.2156 - val_sparse_categorical_accuracy: 0.1000\n",
      "Epoch 14/100\n",
      "76/76 [==============================] - 0s 591us/step - loss: 1.1437 - sparse_categorical_accuracy: 0.3553 - val_loss: 1.1832 - val_sparse_categorical_accuracy: 0.1000\n",
      "Epoch 15/100\n",
      "76/76 [==============================] - 0s 551us/step - loss: 1.1121 - sparse_categorical_accuracy: 0.3553 - val_loss: 1.1502 - val_sparse_categorical_accuracy: 0.1000\n",
      "Epoch 16/100\n",
      "76/76 [==============================] - 0s 591us/step - loss: 1.0804 - sparse_categorical_accuracy: 0.3553 - val_loss: 1.1161 - val_sparse_categorical_accuracy: 0.1000\n",
      "Epoch 17/100\n",
      "76/76 [==============================] - ETA: 0s - loss: 1.0272 - sparse_categorical_accuracy: 0.200 - 0s 591us/step - loss: 1.0508 - sparse_categorical_accuracy: 0.3553 - val_loss: 1.0837 - val_sparse_categorical_accuracy: 0.1000\n",
      "Epoch 18/100\n",
      "76/76 [==============================] - 0s 591us/step - loss: 1.0235 - sparse_categorical_accuracy: 0.3553 - val_loss: 1.0533 - val_sparse_categorical_accuracy: 0.2000\n",
      "Epoch 19/100\n",
      "76/76 [==============================] - 0s 577us/step - loss: 0.9987 - sparse_categorical_accuracy: 0.3816 - val_loss: 1.0302 - val_sparse_categorical_accuracy: 0.1500\n",
      "Epoch 20/100\n",
      "76/76 [==============================] - 0s 656us/step - loss: 0.9773 - sparse_categorical_accuracy: 0.4079 - val_loss: 1.0025 - val_sparse_categorical_accuracy: 0.2500\n",
      "Epoch 21/100\n",
      "76/76 [==============================] - 0s 564us/step - loss: 0.9566 - sparse_categorical_accuracy: 0.5000 - val_loss: 0.9800 - val_sparse_categorical_accuracy: 0.4500\n",
      "Epoch 22/100\n",
      "76/76 [==============================] - 0s 604us/step - loss: 0.9389 - sparse_categorical_accuracy: 0.5132 - val_loss: 0.9542 - val_sparse_categorical_accuracy: 0.7500\n",
      "Epoch 23/100\n",
      "76/76 [==============================] - 0s 577us/step - loss: 0.9217 - sparse_categorical_accuracy: 0.5658 - val_loss: 0.9331 - val_sparse_categorical_accuracy: 0.8500\n",
      "Epoch 24/100\n",
      "76/76 [==============================] - 0s 577us/step - loss: 0.9091 - sparse_categorical_accuracy: 0.6053 - val_loss: 0.9104 - val_sparse_categorical_accuracy: 0.8500\n",
      "Epoch 25/100\n",
      "76/76 [==============================] - 0s 551us/step - loss: 0.8964 - sparse_categorical_accuracy: 0.6053 - val_loss: 0.8916 - val_sparse_categorical_accuracy: 0.8500\n",
      "Epoch 26/100\n",
      "76/76 [==============================] - 0s 630us/step - loss: 0.8870 - sparse_categorical_accuracy: 0.6053 - val_loss: 0.8711 - val_sparse_categorical_accuracy: 0.8500\n",
      "Epoch 27/100\n",
      "76/76 [==============================] - 0s 564us/step - loss: 0.8767 - sparse_categorical_accuracy: 0.6053 - val_loss: 0.8534 - val_sparse_categorical_accuracy: 0.8500\n",
      "Epoch 28/100\n",
      "76/76 [==============================] - 0s 682us/step - loss: 0.8677 - sparse_categorical_accuracy: 0.6053 - val_loss: 0.8448 - val_sparse_categorical_accuracy: 0.8500\n",
      "Epoch 29/100\n",
      "76/76 [==============================] - 0s 656us/step - loss: 0.8607 - sparse_categorical_accuracy: 0.6053 - val_loss: 0.8295 - val_sparse_categorical_accuracy: 0.8500\n",
      "Epoch 30/100\n",
      "76/76 [==============================] - 0s 695us/step - loss: 0.8531 - sparse_categorical_accuracy: 0.6053 - val_loss: 0.8126 - val_sparse_categorical_accuracy: 0.8500\n",
      "Epoch 31/100\n",
      "76/76 [==============================] - 0s 696us/step - loss: 0.8470 - sparse_categorical_accuracy: 0.6053 - val_loss: 0.8021 - val_sparse_categorical_accuracy: 0.8500\n",
      "Epoch 32/100\n",
      "76/76 [==============================] - 0s 669us/step - loss: 0.8425 - sparse_categorical_accuracy: 0.6053 - val_loss: 0.7975 - val_sparse_categorical_accuracy: 0.8500\n",
      "Epoch 33/100\n",
      "76/76 [==============================] - 0s 643us/step - loss: 0.8394 - sparse_categorical_accuracy: 0.6053 - val_loss: 0.7847 - val_sparse_categorical_accuracy: 0.8500\n",
      "Epoch 34/100\n",
      "76/76 [==============================] - 0s 564us/step - loss: 0.8357 - sparse_categorical_accuracy: 0.6053 - val_loss: 0.7750 - val_sparse_categorical_accuracy: 0.8500\n",
      "Epoch 35/100\n",
      "76/76 [==============================] - 0s 656us/step - loss: 0.8325 - sparse_categorical_accuracy: 0.6053 - val_loss: 0.7673 - val_sparse_categorical_accuracy: 0.8500\n",
      "Epoch 36/100\n",
      "76/76 [==============================] - 0s 709us/step - loss: 0.8292 - sparse_categorical_accuracy: 0.6053 - val_loss: 0.7591 - val_sparse_categorical_accuracy: 0.8500\n",
      "Epoch 37/100\n",
      "76/76 [==============================] - 0s 591us/step - loss: 0.8269 - sparse_categorical_accuracy: 0.6053 - val_loss: 0.7515 - val_sparse_categorical_accuracy: 0.8500\n",
      "Epoch 38/100\n",
      "76/76 [==============================] - 0s 564us/step - loss: 0.8252 - sparse_categorical_accuracy: 0.6053 - val_loss: 0.7456 - val_sparse_categorical_accuracy: 0.8500\n",
      "Epoch 39/100\n",
      "76/76 [==============================] - 0s 538us/step - loss: 0.8232 - sparse_categorical_accuracy: 0.6053 - val_loss: 0.7411 - val_sparse_categorical_accuracy: 0.8500\n",
      "Epoch 40/100\n",
      "76/76 [==============================] - 0s 551us/step - loss: 0.8214 - sparse_categorical_accuracy: 0.6053 - val_loss: 0.7355 - val_sparse_categorical_accuracy: 0.8500\n",
      "Epoch 41/100\n",
      "76/76 [==============================] - 0s 551us/step - loss: 0.8206 - sparse_categorical_accuracy: 0.6053 - val_loss: 0.7313 - val_sparse_categorical_accuracy: 0.8500\n",
      "Epoch 42/100\n",
      "76/76 [==============================] - 0s 577us/step - loss: 0.8191 - sparse_categorical_accuracy: 0.6053 - val_loss: 0.7273 - val_sparse_categorical_accuracy: 0.8500\n",
      "Epoch 43/100\n",
      "76/76 [==============================] - 0s 538us/step - loss: 0.8178 - sparse_categorical_accuracy: 0.6053 - val_loss: 0.7242 - val_sparse_categorical_accuracy: 0.8500\n",
      "Epoch 44/100\n",
      "76/76 [==============================] - 0s 591us/step - loss: 0.8165 - sparse_categorical_accuracy: 0.6053 - val_loss: 0.7219 - val_sparse_categorical_accuracy: 0.8500\n",
      "Epoch 45/100\n",
      "76/76 [==============================] - 0s 538us/step - loss: 0.8154 - sparse_categorical_accuracy: 0.6053 - val_loss: 0.7190 - val_sparse_categorical_accuracy: 0.8500\n",
      "Epoch 46/100\n",
      "76/76 [==============================] - 0s 577us/step - loss: 0.8148 - sparse_categorical_accuracy: 0.6053 - val_loss: 0.7213 - val_sparse_categorical_accuracy: 0.8500\n",
      "Epoch 47/100\n",
      "76/76 [==============================] - 0s 564us/step - loss: 0.8135 - sparse_categorical_accuracy: 0.6053 - val_loss: 0.7178 - val_sparse_categorical_accuracy: 0.8500\n",
      "Epoch 48/100\n",
      "76/76 [==============================] - 0s 564us/step - loss: 0.8130 - sparse_categorical_accuracy: 0.6053 - val_loss: 0.7216 - val_sparse_categorical_accuracy: 0.8500\n",
      "Epoch 49/100\n",
      "76/76 [==============================] - 0s 564us/step - loss: 0.8116 - sparse_categorical_accuracy: 0.6053 - val_loss: 0.7247 - val_sparse_categorical_accuracy: 0.8500\n",
      "Epoch 50/100\n",
      "76/76 [==============================] - 0s 538us/step - loss: 0.8113 - sparse_categorical_accuracy: 0.6053 - val_loss: 0.7265 - val_sparse_categorical_accuracy: 0.8500\n",
      "Epoch 51/100\n",
      "76/76 [==============================] - 0s 564us/step - loss: 0.8100 - sparse_categorical_accuracy: 0.6053 - val_loss: 0.7287 - val_sparse_categorical_accuracy: 0.8500\n",
      "Epoch 52/100\n",
      "76/76 [==============================] - 0s 538us/step - loss: 0.8102 - sparse_categorical_accuracy: 0.6053 - val_loss: 0.7313 - val_sparse_categorical_accuracy: 0.8500\n",
      "Epoch 53/100\n",
      "76/76 [==============================] - 0s 551us/step - loss: 0.8084 - sparse_categorical_accuracy: 0.6053 - val_loss: 0.7348 - val_sparse_categorical_accuracy: 0.8500\n",
      "Epoch 54/100\n",
      "76/76 [==============================] - 0s 577us/step - loss: 0.8084 - sparse_categorical_accuracy: 0.6053 - val_loss: 0.7371 - val_sparse_categorical_accuracy: 0.8500\n",
      "Epoch 55/100\n",
      "76/76 [==============================] - 0s 590us/step - loss: 0.8080 - sparse_categorical_accuracy: 0.6053 - val_loss: 0.7346 - val_sparse_categorical_accuracy: 0.8500\n",
      "Epoch 56/100\n",
      "76/76 [==============================] - 0s 565us/step - loss: 0.8064 - sparse_categorical_accuracy: 0.6053 - val_loss: 0.7376 - val_sparse_categorical_accuracy: 0.8500\n",
      "Epoch 57/100\n",
      "76/76 [==============================] - 0s 551us/step - loss: 0.8067 - sparse_categorical_accuracy: 0.6053 - val_loss: 0.7325 - val_sparse_categorical_accuracy: 0.8500\n",
      "Epoch 58/100\n",
      "76/76 [==============================] - 0s 578us/step - loss: 0.8057 - sparse_categorical_accuracy: 0.6053 - val_loss: 0.7344 - val_sparse_categorical_accuracy: 0.8500\n",
      "Epoch 59/100\n",
      "76/76 [==============================] - 0s 709us/step - loss: 0.8054 - sparse_categorical_accuracy: 0.6053 - val_loss: 0.7279 - val_sparse_categorical_accuracy: 0.8500\n",
      "Epoch 60/100\n",
      "76/76 [==============================] - 0s 643us/step - loss: 0.8046 - sparse_categorical_accuracy: 0.6053 - val_loss: 0.7303 - val_sparse_categorical_accuracy: 0.8500\n",
      "Epoch 61/100\n",
      "76/76 [==============================] - 0s 525us/step - loss: 0.8041 - sparse_categorical_accuracy: 0.6053 - val_loss: 0.7313 - val_sparse_categorical_accuracy: 0.8500\n",
      "Epoch 62/100\n",
      "76/76 [==============================] - 0s 577us/step - loss: 0.8041 - sparse_categorical_accuracy: 0.6053 - val_loss: 0.7325 - val_sparse_categorical_accuracy: 0.8500\n",
      "Epoch 63/100\n",
      "76/76 [==============================] - 0s 577us/step - loss: 0.8039 - sparse_categorical_accuracy: 0.6053 - val_loss: 0.7276 - val_sparse_categorical_accuracy: 0.8500\n",
      "Epoch 64/100\n",
      "76/76 [==============================] - 0s 564us/step - loss: 0.8028 - sparse_categorical_accuracy: 0.6053 - val_loss: 0.7223 - val_sparse_categorical_accuracy: 0.8500\n",
      "Epoch 65/100\n",
      "76/76 [==============================] - 0s 577us/step - loss: 0.8023 - sparse_categorical_accuracy: 0.6053 - val_loss: 0.7241 - val_sparse_categorical_accuracy: 0.8500\n",
      "Epoch 66/100\n",
      "76/76 [==============================] - 0s 538us/step - loss: 0.8018 - sparse_categorical_accuracy: 0.6053 - val_loss: 0.7189 - val_sparse_categorical_accuracy: 0.8500\n",
      "Epoch 67/100\n",
      "76/76 [==============================] - 0s 551us/step - loss: 0.8012 - sparse_categorical_accuracy: 0.6053 - val_loss: 0.7213 - val_sparse_categorical_accuracy: 0.8500\n",
      "Epoch 68/100\n",
      "76/76 [==============================] - 0s 578us/step - loss: 0.8008 - sparse_categorical_accuracy: 0.6053 - val_loss: 0.7163 - val_sparse_categorical_accuracy: 0.8500\n",
      "Epoch 69/100\n",
      "76/76 [==============================] - 0s 551us/step - loss: 0.8003 - sparse_categorical_accuracy: 0.6053 - val_loss: 0.7114 - val_sparse_categorical_accuracy: 0.8500\n",
      "Epoch 70/100\n",
      "76/76 [==============================] - 0s 538us/step - loss: 0.8007 - sparse_categorical_accuracy: 0.6053 - val_loss: 0.7075 - val_sparse_categorical_accuracy: 0.8500\n",
      "Epoch 71/100\n",
      "76/76 [==============================] - 0s 564us/step - loss: 0.7998 - sparse_categorical_accuracy: 0.6053 - val_loss: 0.7042 - val_sparse_categorical_accuracy: 0.8500\n",
      "Epoch 72/100\n",
      "76/76 [==============================] - 0s 538us/step - loss: 0.8000 - sparse_categorical_accuracy: 0.6053 - val_loss: 0.7088 - val_sparse_categorical_accuracy: 0.8500\n",
      "Epoch 73/100\n",
      "76/76 [==============================] - 0s 564us/step - loss: 0.7993 - sparse_categorical_accuracy: 0.6053 - val_loss: 0.7137 - val_sparse_categorical_accuracy: 0.8500\n",
      "Epoch 74/100\n",
      "76/76 [==============================] - 0s 643us/step - loss: 0.7989 - sparse_categorical_accuracy: 0.6053 - val_loss: 0.7105 - val_sparse_categorical_accuracy: 0.8500\n",
      "Epoch 75/100\n",
      "76/76 [==============================] - 0s 682us/step - loss: 0.7989 - sparse_categorical_accuracy: 0.6053 - val_loss: 0.7068 - val_sparse_categorical_accuracy: 0.8500\n",
      "Epoch 76/100\n",
      "76/76 [==============================] - 0s 669us/step - loss: 0.7990 - sparse_categorical_accuracy: 0.6053 - val_loss: 0.7042 - val_sparse_categorical_accuracy: 0.8500\n",
      "Epoch 77/100\n",
      "76/76 [==============================] - 0s 696us/step - loss: 0.7981 - sparse_categorical_accuracy: 0.6053 - val_loss: 0.7008 - val_sparse_categorical_accuracy: 0.8500\n",
      "Epoch 78/100\n",
      "76/76 [==============================] - 0s 591us/step - loss: 0.7980 - sparse_categorical_accuracy: 0.6053 - val_loss: 0.7064 - val_sparse_categorical_accuracy: 0.8500\n",
      "Epoch 79/100\n",
      "76/76 [==============================] - 0s 551us/step - loss: 0.7974 - sparse_categorical_accuracy: 0.6053 - val_loss: 0.7095 - val_sparse_categorical_accuracy: 0.8500\n",
      "Epoch 80/100\n",
      "76/76 [==============================] - 0s 577us/step - loss: 0.7974 - sparse_categorical_accuracy: 0.6053 - val_loss: 0.7070 - val_sparse_categorical_accuracy: 0.8500\n",
      "Epoch 81/100\n",
      "76/76 [==============================] - 0s 538us/step - loss: 0.7970 - sparse_categorical_accuracy: 0.6053 - val_loss: 0.7097 - val_sparse_categorical_accuracy: 0.8500\n",
      "Epoch 82/100\n",
      "76/76 [==============================] - 0s 564us/step - loss: 0.7967 - sparse_categorical_accuracy: 0.6053 - val_loss: 0.7127 - val_sparse_categorical_accuracy: 0.8500\n",
      "Epoch 83/100\n",
      "76/76 [==============================] - 0s 604us/step - loss: 0.7964 - sparse_categorical_accuracy: 0.6053 - val_loss: 0.7082 - val_sparse_categorical_accuracy: 0.8500\n",
      "Epoch 84/100\n",
      "76/76 [==============================] - 0s 577us/step - loss: 0.7963 - sparse_categorical_accuracy: 0.6053 - val_loss: 0.7044 - val_sparse_categorical_accuracy: 0.8500\n",
      "Epoch 85/100\n",
      "76/76 [==============================] - 0s 564us/step - loss: 0.7958 - sparse_categorical_accuracy: 0.6053 - val_loss: 0.7086 - val_sparse_categorical_accuracy: 0.8500\n",
      "Epoch 86/100\n",
      "76/76 [==============================] - 0s 538us/step - loss: 0.7960 - sparse_categorical_accuracy: 0.6053 - val_loss: 0.7048 - val_sparse_categorical_accuracy: 0.8500\n",
      "Epoch 87/100\n",
      "76/76 [==============================] - 0s 551us/step - loss: 0.7959 - sparse_categorical_accuracy: 0.6053 - val_loss: 0.7033 - val_sparse_categorical_accuracy: 0.8500\n",
      "Epoch 88/100\n",
      "76/76 [==============================] - 0s 551us/step - loss: 0.7962 - sparse_categorical_accuracy: 0.6053 - val_loss: 0.7009 - val_sparse_categorical_accuracy: 0.8500\n",
      "Epoch 89/100\n",
      "76/76 [==============================] - 0s 538us/step - loss: 0.7954 - sparse_categorical_accuracy: 0.6053 - val_loss: 0.6990 - val_sparse_categorical_accuracy: 0.8500\n",
      "Epoch 90/100\n"
     ]
    },
    {
     "name": "stdout",
     "output_type": "stream",
     "text": [
      "76/76 [==============================] - 0s 551us/step - loss: 0.7952 - sparse_categorical_accuracy: 0.6053 - val_loss: 0.6973 - val_sparse_categorical_accuracy: 0.8500\n",
      "Epoch 91/100\n",
      "76/76 [==============================] - 0s 564us/step - loss: 0.7962 - sparse_categorical_accuracy: 0.6053 - val_loss: 0.6950 - val_sparse_categorical_accuracy: 0.8500\n",
      "Epoch 92/100\n",
      "76/76 [==============================] - 0s 538us/step - loss: 0.7947 - sparse_categorical_accuracy: 0.6053 - val_loss: 0.6995 - val_sparse_categorical_accuracy: 0.8500\n",
      "Epoch 93/100\n",
      "76/76 [==============================] - 0s 564us/step - loss: 0.7946 - sparse_categorical_accuracy: 0.6053 - val_loss: 0.7038 - val_sparse_categorical_accuracy: 0.8500\n",
      "Epoch 94/100\n",
      "76/76 [==============================] - 0s 525us/step - loss: 0.7953 - sparse_categorical_accuracy: 0.6053 - val_loss: 0.7058 - val_sparse_categorical_accuracy: 0.8500\n",
      "Epoch 95/100\n",
      "76/76 [==============================] - 0s 577us/step - loss: 0.7942 - sparse_categorical_accuracy: 0.6053 - val_loss: 0.7018 - val_sparse_categorical_accuracy: 0.8500\n",
      "Epoch 96/100\n",
      "76/76 [==============================] - 0s 551us/step - loss: 0.7945 - sparse_categorical_accuracy: 0.6053 - val_loss: 0.7048 - val_sparse_categorical_accuracy: 0.8500\n",
      "Epoch 97/100\n",
      "76/76 [==============================] - 0s 564us/step - loss: 0.7939 - sparse_categorical_accuracy: 0.6053 - val_loss: 0.6999 - val_sparse_categorical_accuracy: 0.8500\n",
      "Epoch 98/100\n",
      "76/76 [==============================] - 0s 551us/step - loss: 0.7947 - sparse_categorical_accuracy: 0.6053 - val_loss: 0.7034 - val_sparse_categorical_accuracy: 0.8500\n",
      "Epoch 99/100\n",
      "76/76 [==============================] - 0s 577us/step - loss: 0.7938 - sparse_categorical_accuracy: 0.6053 - val_loss: 0.7002 - val_sparse_categorical_accuracy: 0.8500\n",
      "Epoch 100/100\n",
      "76/76 [==============================] - 0s 577us/step - loss: 0.7940 - sparse_categorical_accuracy: 0.6053 - val_loss: 0.6975 - val_sparse_categorical_accuracy: 0.8500\n"
     ]
    }
   ],
   "source": [
    "hist3 = model_3.fit(X_train3,y_train3,validation_data=(X_test3,y_test3),epochs=100,batch_size=5)"
   ]
  },
  {
   "cell_type": "code",
   "execution_count": 27,
   "metadata": {
    "ExecuteTime": {
     "end_time": "2020-04-09T10:42:06.823952Z",
     "start_time": "2020-04-09T10:42:06.788947Z"
    }
   },
   "outputs": [
    {
     "name": "stdout",
     "output_type": "stream",
     "text": [
      "0.85\n"
     ]
    }
   ],
   "source": [
    "from sklearn.metrics import f1_score\n",
    "preds = model_3.predict(X_test3)\n",
    "preds = np.array([np.argmax(a) for a in preds])\n",
    "print(f1_score(y_test3,preds,average='micro'))"
   ]
  },
  {
   "cell_type": "code",
   "execution_count": 29,
   "metadata": {
    "ExecuteTime": {
     "end_time": "2020-03-31T14:12:37.524311Z",
     "start_time": "2020-03-31T14:12:37.338339Z"
    }
   },
   "outputs": [
    {
     "data": {
      "image/png": "[encoded data removed]",
      "text/plain": [
       "<Figure size 432x288 with 1 Axes>"
      ]
     },
     "metadata": {
      "needs_background": "light"
     },
     "output_type": "display_data"
    }
   ],
   "source": [
    "plt.plot(hist3.history[\"loss\"],label=\"train_loss\")\n",
    "plt.plot(hist3.history[\"val_loss\"],label=\"val_loss\")\n",
    "plt.title(\"Loss Curve for Personality Type E\")\n",
    "plt.xlabel(\"Epoch #\")\n",
    "plt.ylabel(\"Loss\")\n",
    "plt.legend(loc=\"lower left\")\n",
    "plt.savefig(\"ModelforE.png\")\n",
    "model_3.save('E.h5')"
   ]
  },
  {
   "cell_type": "code",
   "execution_count": 30,
   "metadata": {
    "ExecuteTime": {
     "end_time": "2020-04-09T10:42:19.624434Z",
     "start_time": "2020-04-09T10:42:19.543401Z"
    }
   },
   "outputs": [],
   "source": [
    "model_4 = Sequential()\n",
    "model_4.add(Dense(1, input_dim=8, kernel_initializer='glorot_uniform', activation='relu'))\n",
    "model_4.add(Dense(2, kernel_initializer='glorot_uniform', activation='relu'))\n",
    "model_4.add(Dense(3, kernel_initializer='glorot_uniform', activation='relu'))\n",
    "model_4.add(Dense(5, kernel_initializer='glorot_uniform',activation='softmax'))\n",
    "# Compile model\n",
    "model_4.compile(loss='sparse_categorical_crossentropy', optimizer='rmsprop', metrics=['sparse_categorical_accuracy'])"
   ]
  },
  {
   "cell_type": "code",
   "execution_count": 31,
   "metadata": {
    "ExecuteTime": {
     "end_time": "2020-04-09T10:42:25.832861Z",
     "start_time": "2020-04-09T10:42:19.824930Z"
    }
   },
   "outputs": [
    {
     "name": "stdout",
     "output_type": "stream",
     "text": [
      "Train on 76 samples, validate on 20 samples\n",
      "Epoch 1/100\n",
      "76/76 [==============================] - 0s 2ms/step - loss: 1.5961 - sparse_categorical_accuracy: 0.5789 - val_loss: 1.5825 - val_sparse_categorical_accuracy: 0.8500\n",
      "Epoch 2/100\n",
      "76/76 [==============================] - 0s 603us/step - loss: 1.5779 - sparse_categorical_accuracy: 0.6053 - val_loss: 1.5666 - val_sparse_categorical_accuracy: 0.8500\n",
      "Epoch 3/100\n",
      "76/76 [==============================] - 0s 577us/step - loss: 1.5626 - sparse_categorical_accuracy: 0.6053 - val_loss: 1.5511 - val_sparse_categorical_accuracy: 0.8500\n",
      "Epoch 4/100\n",
      "76/76 [==============================] - 0s 564us/step - loss: 1.5479 - sparse_categorical_accuracy: 0.6053 - val_loss: 1.5344 - val_sparse_categorical_accuracy: 0.8500\n",
      "Epoch 5/100\n",
      "76/76 [==============================] - 0s 551us/step - loss: 1.5334 - sparse_categorical_accuracy: 0.6053 - val_loss: 1.5201 - val_sparse_categorical_accuracy: 0.8500\n",
      "Epoch 6/100\n",
      "76/76 [==============================] - 0s 591us/step - loss: 1.5197 - sparse_categorical_accuracy: 0.6053 - val_loss: 1.5059 - val_sparse_categorical_accuracy: 0.8500\n",
      "Epoch 7/100\n",
      "76/76 [==============================] - 0s 669us/step - loss: 1.5059 - sparse_categorical_accuracy: 0.6053 - val_loss: 1.4911 - val_sparse_categorical_accuracy: 0.8500\n",
      "Epoch 8/100\n",
      "76/76 [==============================] - 0s 735us/step - loss: 1.4934 - sparse_categorical_accuracy: 0.6053 - val_loss: 1.4765 - val_sparse_categorical_accuracy: 0.8500\n",
      "Epoch 9/100\n",
      "76/76 [==============================] - 0s 604us/step - loss: 1.4800 - sparse_categorical_accuracy: 0.6053 - val_loss: 1.4623 - val_sparse_categorical_accuracy: 0.8500\n",
      "Epoch 10/100\n",
      "76/76 [==============================] - 0s 735us/step - loss: 1.4668 - sparse_categorical_accuracy: 0.6053 - val_loss: 1.4474 - val_sparse_categorical_accuracy: 0.8500\n",
      "Epoch 11/100\n",
      "76/76 [==============================] - 0s 748us/step - loss: 1.4534 - sparse_categorical_accuracy: 0.6053 - val_loss: 1.4342 - val_sparse_categorical_accuracy: 0.8500\n",
      "Epoch 12/100\n",
      "76/76 [==============================] - 0s 669us/step - loss: 1.4404 - sparse_categorical_accuracy: 0.6053 - val_loss: 1.4188 - val_sparse_categorical_accuracy: 0.8500\n",
      "Epoch 13/100\n",
      "76/76 [==============================] - 0s 709us/step - loss: 1.4271 - sparse_categorical_accuracy: 0.6053 - val_loss: 1.4042 - val_sparse_categorical_accuracy: 0.8500\n",
      "Epoch 14/100\n",
      "76/76 [==============================] - 0s 682us/step - loss: 1.4142 - sparse_categorical_accuracy: 0.6053 - val_loss: 1.3900 - val_sparse_categorical_accuracy: 0.8500\n",
      "Epoch 15/100\n",
      "76/76 [==============================] - 0s 630us/step - loss: 1.4016 - sparse_categorical_accuracy: 0.6053 - val_loss: 1.3772 - val_sparse_categorical_accuracy: 0.8500\n",
      "Epoch 16/100\n",
      "76/76 [==============================] - 0s 617us/step - loss: 1.3897 - sparse_categorical_accuracy: 0.6053 - val_loss: 1.3631 - val_sparse_categorical_accuracy: 0.8500\n",
      "Epoch 17/100\n",
      "76/76 [==============================] - 0s 656us/step - loss: 1.3776 - sparse_categorical_accuracy: 0.6053 - val_loss: 1.3493 - val_sparse_categorical_accuracy: 0.8500\n",
      "Epoch 18/100\n",
      "76/76 [==============================] - 0s 577us/step - loss: 1.3656 - sparse_categorical_accuracy: 0.6053 - val_loss: 1.3373 - val_sparse_categorical_accuracy: 0.8500\n",
      "Epoch 19/100\n",
      "76/76 [==============================] - 0s 590us/step - loss: 1.3541 - sparse_categorical_accuracy: 0.6053 - val_loss: 1.3237 - val_sparse_categorical_accuracy: 0.8500\n",
      "Epoch 20/100\n",
      "76/76 [==============================] - 0s 604us/step - loss: 1.3423 - sparse_categorical_accuracy: 0.6053 - val_loss: 1.3104 - val_sparse_categorical_accuracy: 0.8500\n",
      "Epoch 21/100\n",
      "76/76 [==============================] - 0s 538us/step - loss: 1.3310 - sparse_categorical_accuracy: 0.6053 - val_loss: 1.2974 - val_sparse_categorical_accuracy: 0.8500\n",
      "Epoch 22/100\n",
      "76/76 [==============================] - 0s 604us/step - loss: 1.3199 - sparse_categorical_accuracy: 0.6053 - val_loss: 1.2849 - val_sparse_categorical_accuracy: 0.8500\n",
      "Epoch 23/100\n",
      "76/76 [==============================] - 0s 604us/step - loss: 1.3087 - sparse_categorical_accuracy: 0.6053 - val_loss: 1.2732 - val_sparse_categorical_accuracy: 0.8500\n",
      "Epoch 24/100\n",
      "76/76 [==============================] - 0s 591us/step - loss: 1.2980 - sparse_categorical_accuracy: 0.6053 - val_loss: 1.2620 - val_sparse_categorical_accuracy: 0.8500\n",
      "Epoch 25/100\n",
      "76/76 [==============================] - 0s 617us/step - loss: 1.2876 - sparse_categorical_accuracy: 0.6053 - val_loss: 1.2493 - val_sparse_categorical_accuracy: 0.8500\n",
      "Epoch 26/100\n",
      "76/76 [==============================] - 0s 589us/step - loss: 1.2770 - sparse_categorical_accuracy: 0.6053 - val_loss: 1.2369 - val_sparse_categorical_accuracy: 0.8500\n",
      "Epoch 27/100\n",
      "76/76 [==============================] - 0s 577us/step - loss: 1.2667 - sparse_categorical_accuracy: 0.6053 - val_loss: 1.2266 - val_sparse_categorical_accuracy: 0.8500\n",
      "Epoch 28/100\n",
      "76/76 [==============================] - 0s 643us/step - loss: 1.2567 - sparse_categorical_accuracy: 0.6053 - val_loss: 1.2142 - val_sparse_categorical_accuracy: 0.8500\n",
      "Epoch 29/100\n",
      "76/76 [==============================] - 0s 577us/step - loss: 1.2468 - sparse_categorical_accuracy: 0.6053 - val_loss: 1.2026 - val_sparse_categorical_accuracy: 0.8500\n",
      "Epoch 30/100\n",
      "76/76 [==============================] - 0s 551us/step - loss: 1.2372 - sparse_categorical_accuracy: 0.6053 - val_loss: 1.1915 - val_sparse_categorical_accuracy: 0.8500\n",
      "Epoch 31/100\n",
      "76/76 [==============================] - 0s 564us/step - loss: 1.2274 - sparse_categorical_accuracy: 0.6053 - val_loss: 1.1797 - val_sparse_categorical_accuracy: 0.8500\n",
      "Epoch 32/100\n",
      "76/76 [==============================] - 0s 564us/step - loss: 1.2180 - sparse_categorical_accuracy: 0.6053 - val_loss: 1.1706 - val_sparse_categorical_accuracy: 0.8500\n",
      "Epoch 33/100\n",
      "76/76 [==============================] - 0s 577us/step - loss: 1.2091 - sparse_categorical_accuracy: 0.6053 - val_loss: 1.1591 - val_sparse_categorical_accuracy: 0.8500\n",
      "Epoch 34/100\n",
      "76/76 [==============================] - 0s 604us/step - loss: 1.2000 - sparse_categorical_accuracy: 0.6053 - val_loss: 1.1486 - val_sparse_categorical_accuracy: 0.8500\n",
      "Epoch 35/100\n",
      "76/76 [==============================] - 0s 617us/step - loss: 1.1913 - sparse_categorical_accuracy: 0.6053 - val_loss: 1.1396 - val_sparse_categorical_accuracy: 0.8500\n",
      "Epoch 36/100\n",
      "76/76 [==============================] - 0s 591us/step - loss: 1.1831 - sparse_categorical_accuracy: 0.6053 - val_loss: 1.1294 - val_sparse_categorical_accuracy: 0.8500\n",
      "Epoch 37/100\n",
      "76/76 [==============================] - 0s 564us/step - loss: 1.1746 - sparse_categorical_accuracy: 0.6053 - val_loss: 1.1192 - val_sparse_categorical_accuracy: 0.8500\n",
      "Epoch 38/100\n",
      "76/76 [==============================] - 0s 551us/step - loss: 1.1662 - sparse_categorical_accuracy: 0.6053 - val_loss: 1.1092 - val_sparse_categorical_accuracy: 0.8500\n",
      "Epoch 39/100\n",
      "76/76 [==============================] - 0s 564us/step - loss: 1.1580 - sparse_categorical_accuracy: 0.6053 - val_loss: 1.0990 - val_sparse_categorical_accuracy: 0.8500\n",
      "Epoch 40/100\n",
      "76/76 [==============================] - 0s 564us/step - loss: 1.1500 - sparse_categorical_accuracy: 0.6053 - val_loss: 1.0909 - val_sparse_categorical_accuracy: 0.8500\n",
      "Epoch 41/100\n",
      "76/76 [==============================] - 0s 551us/step - loss: 1.1425 - sparse_categorical_accuracy: 0.6053 - val_loss: 1.0812 - val_sparse_categorical_accuracy: 0.8500\n",
      "Epoch 42/100\n",
      "76/76 [==============================] - 0s 564us/step - loss: 1.1347 - sparse_categorical_accuracy: 0.6053 - val_loss: 1.0715 - val_sparse_categorical_accuracy: 0.8500\n",
      "Epoch 43/100\n",
      "76/76 [==============================] - 0s 551us/step - loss: 1.1272 - sparse_categorical_accuracy: 0.6053 - val_loss: 1.0642 - val_sparse_categorical_accuracy: 0.8500\n",
      "Epoch 44/100\n",
      "76/76 [==============================] - 0s 604us/step - loss: 1.1202 - sparse_categorical_accuracy: 0.6053 - val_loss: 1.0549 - val_sparse_categorical_accuracy: 0.8500\n",
      "Epoch 45/100\n",
      "76/76 [==============================] - 0s 617us/step - loss: 1.1132 - sparse_categorical_accuracy: 0.6053 - val_loss: 1.0464 - val_sparse_categorical_accuracy: 0.8500\n"
     ]
    },
    {
     "name": "stdout",
     "output_type": "stream",
     "text": [
      "Epoch 46/100\n",
      "76/76 [==============================] - 0s 591us/step - loss: 1.1062 - sparse_categorical_accuracy: 0.6053 - val_loss: 1.0394 - val_sparse_categorical_accuracy: 0.8500\n",
      "Epoch 47/100\n",
      "76/76 [==============================] - 0s 551us/step - loss: 1.0997 - sparse_categorical_accuracy: 0.6053 - val_loss: 1.0322 - val_sparse_categorical_accuracy: 0.8500\n",
      "Epoch 48/100\n",
      "76/76 [==============================] - 0s 591us/step - loss: 1.0933 - sparse_categorical_accuracy: 0.6053 - val_loss: 1.0235 - val_sparse_categorical_accuracy: 0.8500\n",
      "Epoch 49/100\n",
      "76/76 [==============================] - 0s 525us/step - loss: 1.0869 - sparse_categorical_accuracy: 0.6053 - val_loss: 1.0171 - val_sparse_categorical_accuracy: 0.8500\n",
      "Epoch 50/100\n",
      "76/76 [==============================] - 0s 551us/step - loss: 1.0808 - sparse_categorical_accuracy: 0.6053 - val_loss: 1.0086 - val_sparse_categorical_accuracy: 0.8500\n",
      "Epoch 51/100\n",
      "76/76 [==============================] - 0s 564us/step - loss: 1.0743 - sparse_categorical_accuracy: 0.6053 - val_loss: 1.0001 - val_sparse_categorical_accuracy: 0.8500\n",
      "Epoch 52/100\n",
      "76/76 [==============================] - 0s 551us/step - loss: 1.0681 - sparse_categorical_accuracy: 0.6053 - val_loss: 0.9924 - val_sparse_categorical_accuracy: 0.8500\n",
      "Epoch 53/100\n",
      "76/76 [==============================] - 0s 630us/step - loss: 1.0622 - sparse_categorical_accuracy: 0.6053 - val_loss: 0.9849 - val_sparse_categorical_accuracy: 0.8500\n",
      "Epoch 54/100\n",
      "76/76 [==============================] - 0s 683us/step - loss: 1.0565 - sparse_categorical_accuracy: 0.6053 - val_loss: 0.9775 - val_sparse_categorical_accuracy: 0.8500\n",
      "Epoch 55/100\n",
      "76/76 [==============================] - 0s 669us/step - loss: 1.0507 - sparse_categorical_accuracy: 0.6053 - val_loss: 0.9701 - val_sparse_categorical_accuracy: 0.8500\n",
      "Epoch 56/100\n",
      "76/76 [==============================] - 0s 564us/step - loss: 1.0450 - sparse_categorical_accuracy: 0.6053 - val_loss: 0.9629 - val_sparse_categorical_accuracy: 0.8500\n",
      "Epoch 57/100\n",
      "76/76 [==============================] - 0s 551us/step - loss: 1.0396 - sparse_categorical_accuracy: 0.6053 - val_loss: 0.9559 - val_sparse_categorical_accuracy: 0.8500\n",
      "Epoch 58/100\n",
      "76/76 [==============================] - 0s 538us/step - loss: 1.0342 - sparse_categorical_accuracy: 0.6053 - val_loss: 0.9499 - val_sparse_categorical_accuracy: 0.8500\n",
      "Epoch 59/100\n",
      "76/76 [==============================] - 0s 564us/step - loss: 1.0295 - sparse_categorical_accuracy: 0.6053 - val_loss: 0.9432 - val_sparse_categorical_accuracy: 0.8500\n",
      "Epoch 60/100\n",
      "76/76 [==============================] - 0s 577us/step - loss: 1.0246 - sparse_categorical_accuracy: 0.6053 - val_loss: 0.9385 - val_sparse_categorical_accuracy: 0.8500\n",
      "Epoch 61/100\n",
      "76/76 [==============================] - 0s 564us/step - loss: 1.0197 - sparse_categorical_accuracy: 0.6053 - val_loss: 0.9312 - val_sparse_categorical_accuracy: 0.8500\n",
      "Epoch 62/100\n",
      "76/76 [==============================] - 0s 591us/step - loss: 1.0149 - sparse_categorical_accuracy: 0.6053 - val_loss: 0.9248 - val_sparse_categorical_accuracy: 0.8500\n",
      "Epoch 63/100\n",
      "76/76 [==============================] - 0s 538us/step - loss: 1.0100 - sparse_categorical_accuracy: 0.6053 - val_loss: 0.9183 - val_sparse_categorical_accuracy: 0.8500\n",
      "Epoch 64/100\n",
      "76/76 [==============================] - 0s 591us/step - loss: 1.0053 - sparse_categorical_accuracy: 0.6053 - val_loss: 0.9120 - val_sparse_categorical_accuracy: 0.8500\n",
      "Epoch 65/100\n",
      "76/76 [==============================] - 0s 551us/step - loss: 1.0007 - sparse_categorical_accuracy: 0.6053 - val_loss: 0.9076 - val_sparse_categorical_accuracy: 0.8500\n",
      "Epoch 66/100\n",
      "76/76 [==============================] - 0s 551us/step - loss: 0.9965 - sparse_categorical_accuracy: 0.6053 - val_loss: 0.9031 - val_sparse_categorical_accuracy: 0.8500\n",
      "Epoch 67/100\n",
      "76/76 [==============================] - 0s 590us/step - loss: 0.9923 - sparse_categorical_accuracy: 0.6053 - val_loss: 0.8971 - val_sparse_categorical_accuracy: 0.8500\n",
      "Epoch 68/100\n",
      "76/76 [==============================] - 0s 591us/step - loss: 0.9881 - sparse_categorical_accuracy: 0.6053 - val_loss: 0.8912 - val_sparse_categorical_accuracy: 0.8500\n",
      "Epoch 69/100\n",
      "76/76 [==============================] - 0s 564us/step - loss: 0.9837 - sparse_categorical_accuracy: 0.6053 - val_loss: 0.8867 - val_sparse_categorical_accuracy: 0.8500\n",
      "Epoch 70/100\n",
      "76/76 [==============================] - ETA: 0s - loss: 0.7621 - sparse_categorical_accuracy: 1.000 - 0s 578us/step - loss: 0.9798 - sparse_categorical_accuracy: 0.6053 - val_loss: 0.8828 - val_sparse_categorical_accuracy: 0.8500\n",
      "Epoch 71/100\n",
      "76/76 [==============================] - 0s 564us/step - loss: 0.9760 - sparse_categorical_accuracy: 0.6053 - val_loss: 0.8770 - val_sparse_categorical_accuracy: 0.8500\n",
      "Epoch 72/100\n",
      "76/76 [==============================] - 0s 564us/step - loss: 0.9721 - sparse_categorical_accuracy: 0.6053 - val_loss: 0.8734 - val_sparse_categorical_accuracy: 0.8500\n",
      "Epoch 73/100\n",
      "76/76 [==============================] - 0s 577us/step - loss: 0.9684 - sparse_categorical_accuracy: 0.6053 - val_loss: 0.8693 - val_sparse_categorical_accuracy: 0.8500\n",
      "Epoch 74/100\n",
      "76/76 [==============================] - 0s 551us/step - loss: 0.9650 - sparse_categorical_accuracy: 0.6053 - val_loss: 0.8658 - val_sparse_categorical_accuracy: 0.8500\n",
      "Epoch 75/100\n",
      "76/76 [==============================] - 0s 577us/step - loss: 0.9616 - sparse_categorical_accuracy: 0.6053 - val_loss: 0.8622 - val_sparse_categorical_accuracy: 0.8500\n",
      "Epoch 76/100\n",
      "76/76 [==============================] - 0s 564us/step - loss: 0.9582 - sparse_categorical_accuracy: 0.6053 - val_loss: 0.8590 - val_sparse_categorical_accuracy: 0.8500\n",
      "Epoch 77/100\n",
      "76/76 [==============================] - 0s 551us/step - loss: 0.9550 - sparse_categorical_accuracy: 0.6053 - val_loss: 0.8537 - val_sparse_categorical_accuracy: 0.8500\n",
      "Epoch 78/100\n",
      "76/76 [==============================] - 0s 577us/step - loss: 0.9515 - sparse_categorical_accuracy: 0.6053 - val_loss: 0.8483 - val_sparse_categorical_accuracy: 0.8500\n",
      "Epoch 79/100\n",
      "76/76 [==============================] - 0s 577us/step - loss: 0.9481 - sparse_categorical_accuracy: 0.6053 - val_loss: 0.8437 - val_sparse_categorical_accuracy: 0.8500\n",
      "Epoch 80/100\n",
      "76/76 [==============================] - 0s 564us/step - loss: 0.9449 - sparse_categorical_accuracy: 0.6053 - val_loss: 0.8409 - val_sparse_categorical_accuracy: 0.8500\n",
      "Epoch 81/100\n",
      "76/76 [==============================] - 0s 564us/step - loss: 0.9420 - sparse_categorical_accuracy: 0.6053 - val_loss: 0.8366 - val_sparse_categorical_accuracy: 0.8500\n",
      "Epoch 82/100\n",
      "76/76 [==============================] - 0s 564us/step - loss: 0.9389 - sparse_categorical_accuracy: 0.6053 - val_loss: 0.8323 - val_sparse_categorical_accuracy: 0.8500\n",
      "Epoch 83/100\n",
      "76/76 [==============================] - 0s 604us/step - loss: 0.9359 - sparse_categorical_accuracy: 0.6053 - val_loss: 0.8282 - val_sparse_categorical_accuracy: 0.8500\n",
      "Epoch 84/100\n",
      "76/76 [==============================] - 0s 617us/step - loss: 0.9331 - sparse_categorical_accuracy: 0.6053 - val_loss: 0.8254 - val_sparse_categorical_accuracy: 0.8500\n",
      "Epoch 85/100\n",
      "76/76 [==============================] - 0s 551us/step - loss: 0.9308 - sparse_categorical_accuracy: 0.6053 - val_loss: 0.8231 - val_sparse_categorical_accuracy: 0.8500\n",
      "Epoch 86/100\n",
      "76/76 [==============================] - 0s 577us/step - loss: 0.9284 - sparse_categorical_accuracy: 0.6053 - val_loss: 0.8202 - val_sparse_categorical_accuracy: 0.8500\n",
      "Epoch 87/100\n",
      "76/76 [==============================] - 0s 617us/step - loss: 0.9261 - sparse_categorical_accuracy: 0.6053 - val_loss: 0.8162 - val_sparse_categorical_accuracy: 0.8500\n",
      "Epoch 88/100\n",
      "76/76 [==============================] - 0s 630us/step - loss: 0.9237 - sparse_categorical_accuracy: 0.6053 - val_loss: 0.8126 - val_sparse_categorical_accuracy: 0.8500\n",
      "Epoch 89/100\n",
      "76/76 [==============================] - 0s 577us/step - loss: 0.9212 - sparse_categorical_accuracy: 0.6053 - val_loss: 0.8091 - val_sparse_categorical_accuracy: 0.8500\n",
      "Epoch 90/100\n",
      "76/76 [==============================] - 0s 538us/step - loss: 0.9188 - sparse_categorical_accuracy: 0.6053 - val_loss: 0.8057 - val_sparse_categorical_accuracy: 0.8500\n"
     ]
    },
    {
     "name": "stdout",
     "output_type": "stream",
     "text": [
      "Epoch 91/100\n",
      "76/76 [==============================] - 0s 604us/step - loss: 0.9163 - sparse_categorical_accuracy: 0.6053 - val_loss: 0.8023 - val_sparse_categorical_accuracy: 0.8500\n",
      "Epoch 92/100\n",
      "76/76 [==============================] - 0s 551us/step - loss: 0.9141 - sparse_categorical_accuracy: 0.6053 - val_loss: 0.7991 - val_sparse_categorical_accuracy: 0.8500\n",
      "Epoch 93/100\n",
      "76/76 [==============================] - 0s 551us/step - loss: 0.9116 - sparse_categorical_accuracy: 0.6053 - val_loss: 0.7957 - val_sparse_categorical_accuracy: 0.8500\n",
      "Epoch 94/100\n",
      "76/76 [==============================] - 0s 577us/step - loss: 0.9094 - sparse_categorical_accuracy: 0.6053 - val_loss: 0.7923 - val_sparse_categorical_accuracy: 0.8500\n",
      "Epoch 95/100\n",
      "76/76 [==============================] - 0s 564us/step - loss: 0.9070 - sparse_categorical_accuracy: 0.6053 - val_loss: 0.7887 - val_sparse_categorical_accuracy: 0.8500\n",
      "Epoch 96/100\n",
      "76/76 [==============================] - 0s 538us/step - loss: 0.9050 - sparse_categorical_accuracy: 0.6053 - val_loss: 0.7856 - val_sparse_categorical_accuracy: 0.8500\n",
      "Epoch 97/100\n",
      "76/76 [==============================] - 0s 525us/step - loss: 0.9027 - sparse_categorical_accuracy: 0.6053 - val_loss: 0.7826 - val_sparse_categorical_accuracy: 0.8500\n",
      "Epoch 98/100\n",
      "76/76 [==============================] - 0s 604us/step - loss: 0.9007 - sparse_categorical_accuracy: 0.6053 - val_loss: 0.7797 - val_sparse_categorical_accuracy: 0.8500\n",
      "Epoch 99/100\n",
      "76/76 [==============================] - 0s 591us/step - loss: 0.8988 - sparse_categorical_accuracy: 0.6053 - val_loss: 0.7783 - val_sparse_categorical_accuracy: 0.8500\n",
      "Epoch 100/100\n",
      "76/76 [==============================] - 0s 551us/step - loss: 0.8969 - sparse_categorical_accuracy: 0.6053 - val_loss: 0.7758 - val_sparse_categorical_accuracy: 0.8500\n"
     ]
    }
   ],
   "source": [
    "hist4 = model_4.fit(X_train3,y_train3,validation_data=(X_test3,y_test3),epochs=100,batch_size=5)"
   ]
  },
  {
   "cell_type": "code",
   "execution_count": 32,
   "metadata": {
    "ExecuteTime": {
     "end_time": "2020-04-09T10:42:47.790950Z",
     "start_time": "2020-04-09T10:42:47.315548Z"
    }
   },
   "outputs": [
    {
     "name": "stdout",
     "output_type": "stream",
     "text": [
      "0.65\n"
     ]
    }
   ],
   "source": [
    "from sklearn.metrics import f1_score\n",
    "preds = model_4.predict(X_test4)\n",
    "preds = np.array([np.argmax(a) for a in preds])\n",
    "print(f1_score(y_test4,preds,average='micro'))"
   ]
  },
  {
   "cell_type": "code",
   "execution_count": 34,
   "metadata": {
    "ExecuteTime": {
     "end_time": "2020-03-31T14:13:10.674078Z",
     "start_time": "2020-03-31T14:13:10.487081Z"
    }
   },
   "outputs": [
    {
     "data": {
      "image/png": "[encoded data removed]",
      "text/plain": [
       "<Figure size 432x288 with 1 Axes>"
      ]
     },
     "metadata": {
      "needs_background": "light"
     },
     "output_type": "display_data"
    }
   ],
   "source": [
    "plt.plot(hist4.history[\"loss\"],label=\"train_loss\")\n",
    "plt.plot(hist4.history[\"val_loss\"],label=\"val_loss\")\n",
    "plt.title(\"Loss Curve for Personality Type O\")\n",
    "plt.xlabel(\"Epoch #\")\n",
    "plt.ylabel(\"Loss\")\n",
    "plt.legend(loc=\"lower left\")\n",
    "plt.savefig(\"ModelforO.png\")\n",
    "model_4.save('O.h5')"
   ]
  },
  {
   "cell_type": "code",
   "execution_count": 36,
   "metadata": {
    "ExecuteTime": {
     "end_time": "2020-04-09T10:43:06.680475Z",
     "start_time": "2020-04-09T10:43:00.439232Z"
    }
   },
   "outputs": [
    {
     "name": "stdout",
     "output_type": "stream",
     "text": [
      "Train on 76 samples, validate on 20 samples\n",
      "Epoch 1/100\n",
      "76/76 [==============================] - 0s 2ms/step - loss: 1.6110 - sparse_categorical_accuracy: 0.0658 - val_loss: 1.5961 - val_sparse_categorical_accuracy: 0.3500\n",
      "Epoch 2/100\n",
      "76/76 [==============================] - 0s 616us/step - loss: 1.5967 - sparse_categorical_accuracy: 0.3421 - val_loss: 1.5825 - val_sparse_categorical_accuracy: 0.6500\n",
      "Epoch 3/100\n",
      "76/76 [==============================] - 0s 618us/step - loss: 1.5862 - sparse_categorical_accuracy: 0.4342 - val_loss: 1.5700 - val_sparse_categorical_accuracy: 0.7500\n",
      "Epoch 4/100\n",
      "76/76 [==============================] - 0s 761us/step - loss: 1.5768 - sparse_categorical_accuracy: 0.4737 - val_loss: 1.5595 - val_sparse_categorical_accuracy: 0.7500\n",
      "Epoch 5/100\n",
      "76/76 [==============================] - 0s 696us/step - loss: 1.5677 - sparse_categorical_accuracy: 0.5000 - val_loss: 1.5470 - val_sparse_categorical_accuracy: 0.7500\n",
      "Epoch 6/100\n",
      "76/76 [==============================] - 0s 617us/step - loss: 1.5583 - sparse_categorical_accuracy: 0.5000 - val_loss: 1.5362 - val_sparse_categorical_accuracy: 0.7500\n",
      "Epoch 7/100\n",
      "76/76 [==============================] - 0s 591us/step - loss: 1.5498 - sparse_categorical_accuracy: 0.5000 - val_loss: 1.5246 - val_sparse_categorical_accuracy: 0.7500\n",
      "Epoch 8/100\n",
      "76/76 [==============================] - 0s 604us/step - loss: 1.5408 - sparse_categorical_accuracy: 0.5000 - val_loss: 1.5128 - val_sparse_categorical_accuracy: 0.7500\n",
      "Epoch 9/100\n",
      "76/76 [==============================] - 0s 604us/step - loss: 1.5317 - sparse_categorical_accuracy: 0.5000 - val_loss: 1.5019 - val_sparse_categorical_accuracy: 0.7500\n",
      "Epoch 10/100\n",
      "76/76 [==============================] - 0s 604us/step - loss: 1.5227 - sparse_categorical_accuracy: 0.5000 - val_loss: 1.4896 - val_sparse_categorical_accuracy: 0.7500\n",
      "Epoch 11/100\n",
      "76/76 [==============================] - 0s 643us/step - loss: 1.5129 - sparse_categorical_accuracy: 0.5000 - val_loss: 1.4767 - val_sparse_categorical_accuracy: 0.7500\n",
      "Epoch 12/100\n",
      "76/76 [==============================] - 0s 591us/step - loss: 1.5027 - sparse_categorical_accuracy: 0.5000 - val_loss: 1.4605 - val_sparse_categorical_accuracy: 0.7500\n",
      "Epoch 13/100\n",
      "76/76 [==============================] - 0s 604us/step - loss: 1.4916 - sparse_categorical_accuracy: 0.5000 - val_loss: 1.4476 - val_sparse_categorical_accuracy: 0.7500\n",
      "Epoch 14/100\n",
      "76/76 [==============================] - 0s 669us/step - loss: 1.4812 - sparse_categorical_accuracy: 0.5000 - val_loss: 1.4329 - val_sparse_categorical_accuracy: 0.7500\n",
      "Epoch 15/100\n",
      "76/76 [==============================] - 0s 669us/step - loss: 1.4701 - sparse_categorical_accuracy: 0.5000 - val_loss: 1.4165 - val_sparse_categorical_accuracy: 0.7500\n",
      "Epoch 16/100\n",
      "76/76 [==============================] - 0s 590us/step - loss: 1.4575 - sparse_categorical_accuracy: 0.5000 - val_loss: 1.4002 - val_sparse_categorical_accuracy: 0.7500\n",
      "Epoch 17/100\n",
      "76/76 [==============================] - 0s 591us/step - loss: 1.4467 - sparse_categorical_accuracy: 0.5000 - val_loss: 1.3827 - val_sparse_categorical_accuracy: 0.7500\n",
      "Epoch 18/100\n",
      "76/76 [==============================] - 0s 630us/step - loss: 1.4336 - sparse_categorical_accuracy: 0.5000 - val_loss: 1.3623 - val_sparse_categorical_accuracy: 0.7500\n",
      "Epoch 19/100\n",
      "76/76 [==============================] - 0s 591us/step - loss: 1.4194 - sparse_categorical_accuracy: 0.5000 - val_loss: 1.3426 - val_sparse_categorical_accuracy: 0.7500\n",
      "Epoch 20/100\n",
      "76/76 [==============================] - 0s 617us/step - loss: 1.4048 - sparse_categorical_accuracy: 0.5000 - val_loss: 1.3183 - val_sparse_categorical_accuracy: 0.7500\n",
      "Epoch 21/100\n",
      "76/76 [==============================] - 0s 617us/step - loss: 1.3894 - sparse_categorical_accuracy: 0.5000 - val_loss: 1.2980 - val_sparse_categorical_accuracy: 0.7500\n",
      "Epoch 22/100\n",
      "76/76 [==============================] - 0s 617us/step - loss: 1.3753 - sparse_categorical_accuracy: 0.5000 - val_loss: 1.2761 - val_sparse_categorical_accuracy: 0.7500\n",
      "Epoch 23/100\n",
      "76/76 [==============================] - 0s 603us/step - loss: 1.3609 - sparse_categorical_accuracy: 0.5000 - val_loss: 1.2509 - val_sparse_categorical_accuracy: 0.7500\n",
      "Epoch 24/100\n",
      "76/76 [==============================] - 0s 630us/step - loss: 1.3455 - sparse_categorical_accuracy: 0.5000 - val_loss: 1.2308 - val_sparse_categorical_accuracy: 0.7500\n",
      "Epoch 25/100\n",
      "76/76 [==============================] - 0s 630us/step - loss: 1.3318 - sparse_categorical_accuracy: 0.5000 - val_loss: 1.2036 - val_sparse_categorical_accuracy: 0.7500\n",
      "Epoch 26/100\n",
      "76/76 [==============================] - 0s 617us/step - loss: 1.3165 - sparse_categorical_accuracy: 0.5000 - val_loss: 1.1777 - val_sparse_categorical_accuracy: 0.7500\n",
      "Epoch 27/100\n",
      "76/76 [==============================] - 0s 682us/step - loss: 1.3023 - sparse_categorical_accuracy: 0.5000 - val_loss: 1.1584 - val_sparse_categorical_accuracy: 0.7500\n",
      "Epoch 28/100\n",
      "76/76 [==============================] - 0s 591us/step - loss: 1.2901 - sparse_categorical_accuracy: 0.5000 - val_loss: 1.1320 - val_sparse_categorical_accuracy: 0.7500\n",
      "Epoch 29/100\n",
      "76/76 [==============================] - 0s 590us/step - loss: 1.2775 - sparse_categorical_accuracy: 0.5000 - val_loss: 1.1147 - val_sparse_categorical_accuracy: 0.7500\n",
      "Epoch 30/100\n",
      "76/76 [==============================] - 0s 630us/step - loss: 1.2680 - sparse_categorical_accuracy: 0.5000 - val_loss: 1.0993 - val_sparse_categorical_accuracy: 0.7500\n",
      "Epoch 31/100\n",
      "76/76 [==============================] - 0s 617us/step - loss: 1.2585 - sparse_categorical_accuracy: 0.5000 - val_loss: 1.0789 - val_sparse_categorical_accuracy: 0.7500\n",
      "Epoch 32/100\n",
      "76/76 [==============================] - 0s 577us/step - loss: 1.2497 - sparse_categorical_accuracy: 0.5000 - val_loss: 1.0702 - val_sparse_categorical_accuracy: 0.7500\n",
      "Epoch 33/100\n",
      "76/76 [==============================] - 0s 604us/step - loss: 1.2428 - sparse_categorical_accuracy: 0.5000 - val_loss: 1.0588 - val_sparse_categorical_accuracy: 0.7500\n",
      "Epoch 34/100\n",
      "76/76 [==============================] - 0s 617us/step - loss: 1.2367 - sparse_categorical_accuracy: 0.5000 - val_loss: 1.0448 - val_sparse_categorical_accuracy: 0.7500\n",
      "Epoch 35/100\n",
      "76/76 [==============================] - 0s 604us/step - loss: 1.2303 - sparse_categorical_accuracy: 0.5000 - val_loss: 1.0326 - val_sparse_categorical_accuracy: 0.7500\n",
      "Epoch 36/100\n",
      "76/76 [==============================] - 0s 696us/step - loss: 1.2245 - sparse_categorical_accuracy: 0.5000 - val_loss: 1.0213 - val_sparse_categorical_accuracy: 0.7500\n",
      "Epoch 37/100\n",
      "76/76 [==============================] - 0s 630us/step - loss: 1.2195 - sparse_categorical_accuracy: 0.5000 - val_loss: 1.0120 - val_sparse_categorical_accuracy: 0.7500\n",
      "Epoch 38/100\n",
      "76/76 [==============================] - 0s 643us/step - loss: 1.2150 - sparse_categorical_accuracy: 0.5000 - val_loss: 1.0046 - val_sparse_categorical_accuracy: 0.7500\n",
      "Epoch 39/100\n",
      "76/76 [==============================] - 0s 617us/step - loss: 1.2109 - sparse_categorical_accuracy: 0.5000 - val_loss: 1.0034 - val_sparse_categorical_accuracy: 0.7500\n",
      "Epoch 40/100\n",
      "76/76 [==============================] - 0s 604us/step - loss: 1.2077 - sparse_categorical_accuracy: 0.5000 - val_loss: 0.9963 - val_sparse_categorical_accuracy: 0.7500\n",
      "Epoch 41/100\n",
      "76/76 [==============================] - 0s 604us/step - loss: 1.2042 - sparse_categorical_accuracy: 0.5000 - val_loss: 0.9969 - val_sparse_categorical_accuracy: 0.7500\n",
      "Epoch 42/100\n",
      "76/76 [==============================] - 0s 577us/step - loss: 1.2012 - sparse_categorical_accuracy: 0.5000 - val_loss: 0.9981 - val_sparse_categorical_accuracy: 0.7500\n",
      "Epoch 43/100\n",
      "76/76 [==============================] - 0s 591us/step - loss: 1.1983 - sparse_categorical_accuracy: 0.5000 - val_loss: 0.9983 - val_sparse_categorical_accuracy: 0.7500\n",
      "Epoch 44/100\n",
      "76/76 [==============================] - 0s 564us/step - loss: 1.1956 - sparse_categorical_accuracy: 0.5000 - val_loss: 0.9941 - val_sparse_categorical_accuracy: 0.7500\n",
      "Epoch 45/100\n",
      "76/76 [==============================] - 0s 590us/step - loss: 1.1932 - sparse_categorical_accuracy: 0.5000 - val_loss: 0.9907 - val_sparse_categorical_accuracy: 0.7500\n"
     ]
    },
    {
     "name": "stdout",
     "output_type": "stream",
     "text": [
      "Epoch 46/100\n",
      "76/76 [==============================] - 0s 800us/step - loss: 1.1910 - sparse_categorical_accuracy: 0.5000 - val_loss: 0.9925 - val_sparse_categorical_accuracy: 0.7500\n",
      "Epoch 47/100\n",
      "76/76 [==============================] - 0s 722us/step - loss: 1.1887 - sparse_categorical_accuracy: 0.5000 - val_loss: 0.9907 - val_sparse_categorical_accuracy: 0.7500\n",
      "Epoch 48/100\n",
      "76/76 [==============================] - 0s 591us/step - loss: 1.1867 - sparse_categorical_accuracy: 0.5000 - val_loss: 0.9935 - val_sparse_categorical_accuracy: 0.7500\n",
      "Epoch 49/100\n",
      "76/76 [==============================] - 0s 591us/step - loss: 1.1847 - sparse_categorical_accuracy: 0.5000 - val_loss: 0.9918 - val_sparse_categorical_accuracy: 0.7500\n",
      "Epoch 50/100\n",
      "76/76 [==============================] - 0s 604us/step - loss: 1.1838 - sparse_categorical_accuracy: 0.5000 - val_loss: 0.9903 - val_sparse_categorical_accuracy: 0.7500\n",
      "Epoch 51/100\n",
      "76/76 [==============================] - 0s 591us/step - loss: 1.1817 - sparse_categorical_accuracy: 0.5000 - val_loss: 0.9944 - val_sparse_categorical_accuracy: 0.7500\n",
      "Epoch 52/100\n",
      "76/76 [==============================] - 0s 617us/step - loss: 1.1793 - sparse_categorical_accuracy: 0.5000 - val_loss: 0.9922 - val_sparse_categorical_accuracy: 0.7500\n",
      "Epoch 53/100\n",
      "76/76 [==============================] - 0s 577us/step - loss: 1.1782 - sparse_categorical_accuracy: 0.5000 - val_loss: 0.9966 - val_sparse_categorical_accuracy: 0.7500\n",
      "Epoch 54/100\n",
      "76/76 [==============================] - 0s 591us/step - loss: 1.1767 - sparse_categorical_accuracy: 0.5000 - val_loss: 0.9949 - val_sparse_categorical_accuracy: 0.7500\n",
      "Epoch 55/100\n",
      "76/76 [==============================] - 0s 705us/step - loss: 1.1762 - sparse_categorical_accuracy: 0.5000 - val_loss: 0.9999 - val_sparse_categorical_accuracy: 0.7500\n",
      "Epoch 56/100\n",
      "76/76 [==============================] - 0s 748us/step - loss: 1.1739 - sparse_categorical_accuracy: 0.5000 - val_loss: 0.9993 - val_sparse_categorical_accuracy: 0.7500\n",
      "Epoch 57/100\n",
      "76/76 [==============================] - 0s 682us/step - loss: 1.1733 - sparse_categorical_accuracy: 0.5000 - val_loss: 1.0048 - val_sparse_categorical_accuracy: 0.7500\n",
      "Epoch 58/100\n",
      "76/76 [==============================] - 0s 709us/step - loss: 1.1723 - sparse_categorical_accuracy: 0.5000 - val_loss: 1.0090 - val_sparse_categorical_accuracy: 0.7500\n",
      "Epoch 59/100\n",
      "76/76 [==============================] - 0s 722us/step - loss: 1.1713 - sparse_categorical_accuracy: 0.5000 - val_loss: 1.0075 - val_sparse_categorical_accuracy: 0.7500\n",
      "Epoch 60/100\n",
      "76/76 [==============================] - 0s 735us/step - loss: 1.1705 - sparse_categorical_accuracy: 0.5000 - val_loss: 1.0134 - val_sparse_categorical_accuracy: 0.7500\n",
      "Epoch 61/100\n",
      "76/76 [==============================] - 0s 656us/step - loss: 1.1689 - sparse_categorical_accuracy: 0.5000 - val_loss: 1.0116 - val_sparse_categorical_accuracy: 0.7500\n",
      "Epoch 62/100\n",
      "76/76 [==============================] - 0s 604us/step - loss: 1.1685 - sparse_categorical_accuracy: 0.5000 - val_loss: 1.0172 - val_sparse_categorical_accuracy: 0.7500\n",
      "Epoch 63/100\n",
      "76/76 [==============================] - 0s 590us/step - loss: 1.1675 - sparse_categorical_accuracy: 0.5000 - val_loss: 1.0175 - val_sparse_categorical_accuracy: 0.7500\n",
      "Epoch 64/100\n",
      "76/76 [==============================] - 0s 656us/step - loss: 1.1671 - sparse_categorical_accuracy: 0.5000 - val_loss: 1.0167 - val_sparse_categorical_accuracy: 0.7500\n",
      "Epoch 65/100\n",
      "76/76 [==============================] - 0s 682us/step - loss: 1.1660 - sparse_categorical_accuracy: 0.5000 - val_loss: 1.0222 - val_sparse_categorical_accuracy: 0.7500\n",
      "Epoch 66/100\n",
      "76/76 [==============================] - 0s 630us/step - loss: 1.1654 - sparse_categorical_accuracy: 0.5000 - val_loss: 1.0205 - val_sparse_categorical_accuracy: 0.7500\n",
      "Epoch 67/100\n",
      "76/76 [==============================] - 0s 643us/step - loss: 1.1641 - sparse_categorical_accuracy: 0.5000 - val_loss: 1.0254 - val_sparse_categorical_accuracy: 0.7500\n",
      "Epoch 68/100\n",
      "76/76 [==============================] - 0s 709us/step - loss: 1.1642 - sparse_categorical_accuracy: 0.5000 - val_loss: 1.0314 - val_sparse_categorical_accuracy: 0.7500\n",
      "Epoch 69/100\n",
      "76/76 [==============================] - 0s 656us/step - loss: 1.1631 - sparse_categorical_accuracy: 0.5000 - val_loss: 1.0359 - val_sparse_categorical_accuracy: 0.7500\n",
      "Epoch 70/100\n",
      "76/76 [==============================] - 0s 617us/step - loss: 1.1629 - sparse_categorical_accuracy: 0.5000 - val_loss: 1.0353 - val_sparse_categorical_accuracy: 0.7500\n",
      "Epoch 71/100\n",
      "76/76 [==============================] - 0s 604us/step - loss: 1.1616 - sparse_categorical_accuracy: 0.5000 - val_loss: 1.0363 - val_sparse_categorical_accuracy: 0.7500\n",
      "Epoch 72/100\n",
      "76/76 [==============================] - 0s 604us/step - loss: 1.1610 - sparse_categorical_accuracy: 0.5000 - val_loss: 1.0343 - val_sparse_categorical_accuracy: 0.7500\n",
      "Epoch 73/100\n",
      "76/76 [==============================] - 0s 617us/step - loss: 1.1613 - sparse_categorical_accuracy: 0.5000 - val_loss: 1.0395 - val_sparse_categorical_accuracy: 0.7500\n",
      "Epoch 74/100\n",
      "76/76 [==============================] - 0s 669us/step - loss: 1.1606 - sparse_categorical_accuracy: 0.5000 - val_loss: 1.0402 - val_sparse_categorical_accuracy: 0.7500\n",
      "Epoch 75/100\n",
      "76/76 [==============================] - 0s 630us/step - loss: 1.1595 - sparse_categorical_accuracy: 0.5000 - val_loss: 1.0412 - val_sparse_categorical_accuracy: 0.7500\n",
      "Epoch 76/100\n",
      "76/76 [==============================] - 0s 591us/step - loss: 1.1597 - sparse_categorical_accuracy: 0.5000 - val_loss: 1.0466 - val_sparse_categorical_accuracy: 0.7500\n",
      "Epoch 77/100\n",
      "76/76 [==============================] - 0s 577us/step - loss: 1.1588 - sparse_categorical_accuracy: 0.5000 - val_loss: 1.0522 - val_sparse_categorical_accuracy: 0.7500\n",
      "Epoch 78/100\n",
      "76/76 [==============================] - 0s 591us/step - loss: 1.1584 - sparse_categorical_accuracy: 0.5000 - val_loss: 1.0567 - val_sparse_categorical_accuracy: 0.7500\n",
      "Epoch 79/100\n",
      "76/76 [==============================] - 0s 604us/step - loss: 1.1581 - sparse_categorical_accuracy: 0.5000 - val_loss: 1.0556 - val_sparse_categorical_accuracy: 0.7500\n",
      "Epoch 80/100\n",
      "76/76 [==============================] - 0s 604us/step - loss: 1.1579 - sparse_categorical_accuracy: 0.5000 - val_loss: 1.0605 - val_sparse_categorical_accuracy: 0.7500\n",
      "Epoch 81/100\n",
      "76/76 [==============================] - 0s 656us/step - loss: 1.1575 - sparse_categorical_accuracy: 0.5000 - val_loss: 1.0607 - val_sparse_categorical_accuracy: 0.7500\n",
      "Epoch 82/100\n",
      "76/76 [==============================] - 0s 604us/step - loss: 1.1568 - sparse_categorical_accuracy: 0.5000 - val_loss: 1.0649 - val_sparse_categorical_accuracy: 0.7500\n",
      "Epoch 83/100\n",
      "76/76 [==============================] - 0s 604us/step - loss: 1.1560 - sparse_categorical_accuracy: 0.5000 - val_loss: 1.0639 - val_sparse_categorical_accuracy: 0.7500\n",
      "Epoch 84/100\n",
      "76/76 [==============================] - 0s 643us/step - loss: 1.1571 - sparse_categorical_accuracy: 0.5000 - val_loss: 1.0634 - val_sparse_categorical_accuracy: 0.7500\n",
      "Epoch 85/100\n",
      "76/76 [==============================] - 0s 617us/step - loss: 1.1565 - sparse_categorical_accuracy: 0.5000 - val_loss: 1.0630 - val_sparse_categorical_accuracy: 0.7500\n",
      "Epoch 86/100\n",
      "76/76 [==============================] - 0s 590us/step - loss: 1.1556 - sparse_categorical_accuracy: 0.5000 - val_loss: 1.0681 - val_sparse_categorical_accuracy: 0.7500\n",
      "Epoch 87/100\n",
      "76/76 [==============================] - 0s 656us/step - loss: 1.1556 - sparse_categorical_accuracy: 0.5000 - val_loss: 1.0675 - val_sparse_categorical_accuracy: 0.7500\n",
      "Epoch 88/100\n",
      "76/76 [==============================] - 0s 604us/step - loss: 1.1548 - sparse_categorical_accuracy: 0.5000 - val_loss: 1.0675 - val_sparse_categorical_accuracy: 0.7500\n",
      "Epoch 89/100\n",
      "76/76 [==============================] - 0s 604us/step - loss: 1.1559 - sparse_categorical_accuracy: 0.5000 - val_loss: 1.0682 - val_sparse_categorical_accuracy: 0.7500\n",
      "Epoch 90/100\n",
      "76/76 [==============================] - 0s 577us/step - loss: 1.1557 - sparse_categorical_accuracy: 0.5000 - val_loss: 1.0731 - val_sparse_categorical_accuracy: 0.7500\n",
      "Epoch 91/100\n"
     ]
    },
    {
     "name": "stdout",
     "output_type": "stream",
     "text": [
      "76/76 [==============================] - 0s 590us/step - loss: 1.1547 - sparse_categorical_accuracy: 0.5000 - val_loss: 1.0782 - val_sparse_categorical_accuracy: 0.7500\n",
      "Epoch 92/100\n",
      "76/76 [==============================] - 0s 604us/step - loss: 1.1544 - sparse_categorical_accuracy: 0.5000 - val_loss: 1.0781 - val_sparse_categorical_accuracy: 0.7500\n",
      "Epoch 93/100\n",
      "76/76 [==============================] - 0s 591us/step - loss: 1.1536 - sparse_categorical_accuracy: 0.5000 - val_loss: 1.0837 - val_sparse_categorical_accuracy: 0.7500\n",
      "Epoch 94/100\n",
      "76/76 [==============================] - 0s 617us/step - loss: 1.1542 - sparse_categorical_accuracy: 0.5000 - val_loss: 1.0877 - val_sparse_categorical_accuracy: 0.7500\n",
      "Epoch 95/100\n",
      "76/76 [==============================] - 0s 591us/step - loss: 1.1528 - sparse_categorical_accuracy: 0.5000 - val_loss: 1.0908 - val_sparse_categorical_accuracy: 0.7500\n",
      "Epoch 96/100\n",
      "76/76 [==============================] - 0s 604us/step - loss: 1.1536 - sparse_categorical_accuracy: 0.5000 - val_loss: 1.0909 - val_sparse_categorical_accuracy: 0.7500\n",
      "Epoch 97/100\n",
      "76/76 [==============================] - 0s 604us/step - loss: 1.1530 - sparse_categorical_accuracy: 0.5000 - val_loss: 1.0901 - val_sparse_categorical_accuracy: 0.7500\n",
      "Epoch 98/100\n",
      "76/76 [==============================] - 0s 591us/step - loss: 1.1528 - sparse_categorical_accuracy: 0.5000 - val_loss: 1.0896 - val_sparse_categorical_accuracy: 0.7500\n",
      "Epoch 99/100\n",
      "76/76 [==============================] - 0s 604us/step - loss: 1.1532 - sparse_categorical_accuracy: 0.5000 - val_loss: 1.0903 - val_sparse_categorical_accuracy: 0.7500\n",
      "Epoch 100/100\n",
      "76/76 [==============================] - 0s 630us/step - loss: 1.1529 - sparse_categorical_accuracy: 0.5000 - val_loss: 1.0905 - val_sparse_categorical_accuracy: 0.7500\n"
     ]
    }
   ],
   "source": [
    "model_5 = Sequential()\n",
    "model_5.add(Dense(1, input_dim=8, kernel_initializer='glorot_uniform', activation='relu'))\n",
    "model_5.add(Dense(2, kernel_initializer='glorot_uniform', activation='relu'))\n",
    "model_5.add(Dense(4, kernel_initializer='glorot_uniform', activation='relu'))\n",
    "model_5.add(Dense(4, kernel_initializer='glorot_uniform', activation='relu'))\n",
    "model_5.add(Dense(5, kernel_initializer='glorot_uniform',activation='softmax'))\n",
    "# Compile model\n",
    "model_5.compile(loss='sparse_categorical_crossentropy', optimizer='rmsprop', metrics=['sparse_categorical_accuracy'])\n",
    "hist5 = model_5.fit(X_train5,y_train5,validation_data=(X_test5,y_test5),epochs=100,batch_size=5)"
   ]
  },
  {
   "cell_type": "code",
   "execution_count": 37,
   "metadata": {
    "ExecuteTime": {
     "end_time": "2020-04-09T10:43:26.954438Z",
     "start_time": "2020-04-09T10:43:26.487031Z"
    }
   },
   "outputs": [
    {
     "name": "stdout",
     "output_type": "stream",
     "text": [
      "0.75\n"
     ]
    }
   ],
   "source": [
    "from sklearn.metrics import f1_score\n",
    "preds = model_5.predict(X_test5)\n",
    "preds = np.array([np.argmax(a) for a in preds])\n",
    "print(f1_score(y_test5,preds,average='micro'))"
   ]
  },
  {
   "cell_type": "code",
   "execution_count": 41,
   "metadata": {
    "ExecuteTime": {
     "end_time": "2020-03-31T14:13:05.704772Z",
     "start_time": "2020-03-31T14:13:05.530717Z"
    }
   },
   "outputs": [
    {
     "data": {
      "image/png": "[encoded data removed]",
      "text/plain": [
       "<Figure size 432x288 with 1 Axes>"
      ]
     },
     "metadata": {
      "needs_background": "light"
     },
     "output_type": "display_data"
    }
   ],
   "source": [
    "\n",
    "plt.plot(hist5.history[\"loss\"],label=\"train_loss\")\n",
    "plt.plot(hist5.history[\"val_loss\"],label=\"val_loss\")\n",
    "plt.title(\"Loss Curve for Personality Type A\")\n",
    "plt.xlabel(\"Epoch #\")\n",
    "plt.ylabel(\"Loss\")\n",
    "plt.legend(loc=\"lower left\")\n",
    "plt.savefig(\"ModelforA.png\")\n",
    "model_5.save('A.h5')"
   ]
  },
  {
   "cell_type": "code",
   "execution_count": 39,
   "metadata": {
    "ExecuteTime": {
     "end_time": "2020-04-09T10:43:46.080226Z",
     "start_time": "2020-04-09T10:43:38.783749Z"
    }
   },
   "outputs": [
    {
     "name": "stdout",
     "output_type": "stream",
     "text": [
      "Train on 76 samples, validate on 20 samples\n",
      "Epoch 1/100\n",
      "76/76 [==============================] - 0s 3ms/step - loss: 1.6011 - sparse_categorical_accuracy: 0.4079 - val_loss: 1.5898 - val_sparse_categorical_accuracy: 0.6500\n",
      "Epoch 2/100\n",
      "76/76 [==============================] - 0s 709us/step - loss: 1.5892 - sparse_categorical_accuracy: 0.4868 - val_loss: 1.5756 - val_sparse_categorical_accuracy: 0.6500\n",
      "Epoch 3/100\n",
      "76/76 [==============================] - 0s 709us/step - loss: 1.5789 - sparse_categorical_accuracy: 0.4868 - val_loss: 1.5626 - val_sparse_categorical_accuracy: 0.6500\n",
      "Epoch 4/100\n",
      "76/76 [==============================] - 0s 709us/step - loss: 1.5690 - sparse_categorical_accuracy: 0.4868 - val_loss: 1.5504 - val_sparse_categorical_accuracy: 0.6500\n",
      "Epoch 5/100\n",
      "76/76 [==============================] - 0s 695us/step - loss: 1.5593 - sparse_categorical_accuracy: 0.4868 - val_loss: 1.5372 - val_sparse_categorical_accuracy: 0.6500\n",
      "Epoch 6/100\n",
      "76/76 [==============================] - 0s 735us/step - loss: 1.5496 - sparse_categorical_accuracy: 0.4868 - val_loss: 1.5254 - val_sparse_categorical_accuracy: 0.6500\n",
      "Epoch 7/100\n",
      "76/76 [==============================] - 0s 749us/step - loss: 1.5400 - sparse_categorical_accuracy: 0.4868 - val_loss: 1.5122 - val_sparse_categorical_accuracy: 0.6500\n",
      "Epoch 8/100\n",
      "76/76 [==============================] - 0s 735us/step - loss: 1.5310 - sparse_categorical_accuracy: 0.4868 - val_loss: 1.5008 - val_sparse_categorical_accuracy: 0.6500\n",
      "Epoch 9/100\n",
      "76/76 [==============================] - 0s 722us/step - loss: 1.5220 - sparse_categorical_accuracy: 0.4868 - val_loss: 1.4894 - val_sparse_categorical_accuracy: 0.6500\n",
      "Epoch 10/100\n",
      "76/76 [==============================] - 0s 748us/step - loss: 1.5132 - sparse_categorical_accuracy: 0.4868 - val_loss: 1.4780 - val_sparse_categorical_accuracy: 0.6500\n",
      "Epoch 11/100\n",
      "76/76 [==============================] - 0s 840us/step - loss: 1.5046 - sparse_categorical_accuracy: 0.4868 - val_loss: 1.4660 - val_sparse_categorical_accuracy: 0.6500\n",
      "Epoch 12/100\n",
      "76/76 [==============================] - 0s 932us/step - loss: 1.4959 - sparse_categorical_accuracy: 0.4868 - val_loss: 1.4557 - val_sparse_categorical_accuracy: 0.6500\n",
      "Epoch 13/100\n",
      "76/76 [==============================] - 0s 787us/step - loss: 1.4880 - sparse_categorical_accuracy: 0.4868 - val_loss: 1.4457 - val_sparse_categorical_accuracy: 0.6500\n",
      "Epoch 14/100\n",
      "76/76 [==============================] - 0s 722us/step - loss: 1.4802 - sparse_categorical_accuracy: 0.4868 - val_loss: 1.4356 - val_sparse_categorical_accuracy: 0.6500\n",
      "Epoch 15/100\n",
      "76/76 [==============================] - 0s 722us/step - loss: 1.4732 - sparse_categorical_accuracy: 0.4868 - val_loss: 1.4257 - val_sparse_categorical_accuracy: 0.6500\n",
      "Epoch 16/100\n",
      "76/76 [==============================] - 0s 775us/step - loss: 1.4658 - sparse_categorical_accuracy: 0.4868 - val_loss: 1.4165 - val_sparse_categorical_accuracy: 0.6500\n",
      "Epoch 17/100\n",
      "76/76 [==============================] - 0s 761us/step - loss: 1.4584 - sparse_categorical_accuracy: 0.4868 - val_loss: 1.4066 - val_sparse_categorical_accuracy: 0.6500\n",
      "Epoch 18/100\n",
      "76/76 [==============================] - 0s 735us/step - loss: 1.4508 - sparse_categorical_accuracy: 0.4868 - val_loss: 1.3969 - val_sparse_categorical_accuracy: 0.6500\n",
      "Epoch 19/100\n",
      "76/76 [==============================] - 0s 696us/step - loss: 1.4437 - sparse_categorical_accuracy: 0.4868 - val_loss: 1.3872 - val_sparse_categorical_accuracy: 0.6500\n",
      "Epoch 20/100\n",
      "76/76 [==============================] - 0s 748us/step - loss: 1.4363 - sparse_categorical_accuracy: 0.4868 - val_loss: 1.3764 - val_sparse_categorical_accuracy: 0.6500\n",
      "Epoch 21/100\n",
      "76/76 [==============================] - 0s 707us/step - loss: 1.4290 - sparse_categorical_accuracy: 0.4868 - val_loss: 1.3668 - val_sparse_categorical_accuracy: 0.6500\n",
      "Epoch 22/100\n",
      "76/76 [==============================] - 0s 774us/step - loss: 1.4220 - sparse_categorical_accuracy: 0.4868 - val_loss: 1.3582 - val_sparse_categorical_accuracy: 0.6500\n",
      "Epoch 23/100\n",
      "76/76 [==============================] - 0s 906us/step - loss: 1.4154 - sparse_categorical_accuracy: 0.4868 - val_loss: 1.3492 - val_sparse_categorical_accuracy: 0.6500\n",
      "Epoch 24/100\n",
      "76/76 [==============================] - 0s 827us/step - loss: 1.4086 - sparse_categorical_accuracy: 0.4868 - val_loss: 1.3391 - val_sparse_categorical_accuracy: 0.6500\n",
      "Epoch 25/100\n",
      "76/76 [==============================] - 0s 930us/step - loss: 1.4016 - sparse_categorical_accuracy: 0.4868 - val_loss: 1.3294 - val_sparse_categorical_accuracy: 0.6500\n",
      "Epoch 26/100\n",
      "76/76 [==============================] - 0s 866us/step - loss: 1.3949 - sparse_categorical_accuracy: 0.4868 - val_loss: 1.3201 - val_sparse_categorical_accuracy: 0.6500\n",
      "Epoch 27/100\n",
      "76/76 [==============================] - 0s 709us/step - loss: 1.3886 - sparse_categorical_accuracy: 0.4868 - val_loss: 1.3123 - val_sparse_categorical_accuracy: 0.6500\n",
      "Epoch 28/100\n",
      "76/76 [==============================] - 0s 774us/step - loss: 1.3826 - sparse_categorical_accuracy: 0.4868 - val_loss: 1.3044 - val_sparse_categorical_accuracy: 0.6500\n",
      "Epoch 29/100\n",
      "76/76 [==============================] - 0s 859us/step - loss: 1.3772 - sparse_categorical_accuracy: 0.4868 - val_loss: 1.2962 - val_sparse_categorical_accuracy: 0.6500\n",
      "Epoch 30/100\n",
      "76/76 [==============================] - 0s 801us/step - loss: 1.3712 - sparse_categorical_accuracy: 0.4868 - val_loss: 1.2878 - val_sparse_categorical_accuracy: 0.6500\n",
      "Epoch 31/100\n",
      "76/76 [==============================] - 0s 709us/step - loss: 1.3656 - sparse_categorical_accuracy: 0.4868 - val_loss: 1.2799 - val_sparse_categorical_accuracy: 0.6500\n",
      "Epoch 32/100\n",
      "76/76 [==============================] - 0s 722us/step - loss: 1.3600 - sparse_categorical_accuracy: 0.4868 - val_loss: 1.2720 - val_sparse_categorical_accuracy: 0.6500\n",
      "Epoch 33/100\n",
      "76/76 [==============================] - 0s 709us/step - loss: 1.3545 - sparse_categorical_accuracy: 0.4868 - val_loss: 1.2639 - val_sparse_categorical_accuracy: 0.6500\n",
      "Epoch 34/100\n",
      "76/76 [==============================] - 0s 709us/step - loss: 1.3491 - sparse_categorical_accuracy: 0.4868 - val_loss: 1.2574 - val_sparse_categorical_accuracy: 0.6500\n",
      "Epoch 35/100\n",
      "76/76 [==============================] - 0s 709us/step - loss: 1.3441 - sparse_categorical_accuracy: 0.4868 - val_loss: 1.2503 - val_sparse_categorical_accuracy: 0.6500\n",
      "Epoch 36/100\n",
      "76/76 [==============================] - 0s 762us/step - loss: 1.3392 - sparse_categorical_accuracy: 0.4868 - val_loss: 1.2431 - val_sparse_categorical_accuracy: 0.6500\n",
      "Epoch 37/100\n",
      "76/76 [==============================] - 0s 709us/step - loss: 1.3344 - sparse_categorical_accuracy: 0.4868 - val_loss: 1.2366 - val_sparse_categorical_accuracy: 0.6500\n",
      "Epoch 38/100\n",
      "76/76 [==============================] - 0s 695us/step - loss: 1.3296 - sparse_categorical_accuracy: 0.4868 - val_loss: 1.2300 - val_sparse_categorical_accuracy: 0.6500\n",
      "Epoch 39/100\n",
      "76/76 [==============================] - 0s 696us/step - loss: 1.3254 - sparse_categorical_accuracy: 0.4868 - val_loss: 1.2239 - val_sparse_categorical_accuracy: 0.6500\n",
      "Epoch 40/100\n",
      "76/76 [==============================] - 0s 685us/step - loss: 1.3209 - sparse_categorical_accuracy: 0.4868 - val_loss: 1.2165 - val_sparse_categorical_accuracy: 0.6500\n",
      "Epoch 41/100\n",
      "76/76 [==============================] - 0s 735us/step - loss: 1.3163 - sparse_categorical_accuracy: 0.4868 - val_loss: 1.2103 - val_sparse_categorical_accuracy: 0.6500\n",
      "Epoch 42/100\n",
      "76/76 [==============================] - 0s 695us/step - loss: 1.3119 - sparse_categorical_accuracy: 0.4868 - val_loss: 1.2035 - val_sparse_categorical_accuracy: 0.6500\n",
      "Epoch 43/100\n",
      "76/76 [==============================] - 0s 670us/step - loss: 1.3075 - sparse_categorical_accuracy: 0.4868 - val_loss: 1.1977 - val_sparse_categorical_accuracy: 0.6500\n",
      "Epoch 44/100\n",
      "76/76 [==============================] - 0s 722us/step - loss: 1.3033 - sparse_categorical_accuracy: 0.4868 - val_loss: 1.1909 - val_sparse_categorical_accuracy: 0.6500\n",
      "Epoch 45/100\n",
      "76/76 [==============================] - 0s 736us/step - loss: 1.2991 - sparse_categorical_accuracy: 0.4868 - val_loss: 1.1856 - val_sparse_categorical_accuracy: 0.6500\n"
     ]
    },
    {
     "name": "stdout",
     "output_type": "stream",
     "text": [
      "Epoch 46/100\n",
      "76/76 [==============================] - 0s 735us/step - loss: 1.2952 - sparse_categorical_accuracy: 0.4868 - val_loss: 1.1789 - val_sparse_categorical_accuracy: 0.6500\n",
      "Epoch 47/100\n",
      "76/76 [==============================] - 0s 722us/step - loss: 1.2911 - sparse_categorical_accuracy: 0.4868 - val_loss: 1.1733 - val_sparse_categorical_accuracy: 0.6500\n",
      "Epoch 48/100\n",
      "76/76 [==============================] - 0s 709us/step - loss: 1.2873 - sparse_categorical_accuracy: 0.4868 - val_loss: 1.1672 - val_sparse_categorical_accuracy: 0.6500\n",
      "Epoch 49/100\n",
      "76/76 [==============================] - 0s 682us/step - loss: 1.2834 - sparse_categorical_accuracy: 0.4868 - val_loss: 1.1611 - val_sparse_categorical_accuracy: 0.6500\n",
      "Epoch 50/100\n",
      "76/76 [==============================] - 0s 695us/step - loss: 1.2796 - sparse_categorical_accuracy: 0.4868 - val_loss: 1.1553 - val_sparse_categorical_accuracy: 0.6500\n",
      "Epoch 51/100\n",
      "76/76 [==============================] - 0s 761us/step - loss: 1.2759 - sparse_categorical_accuracy: 0.4868 - val_loss: 1.1497 - val_sparse_categorical_accuracy: 0.6500\n",
      "Epoch 52/100\n",
      "76/76 [==============================] - 0s 878us/step - loss: 1.2725 - sparse_categorical_accuracy: 0.4868 - val_loss: 1.1444 - val_sparse_categorical_accuracy: 0.6500\n",
      "Epoch 53/100\n",
      "76/76 [==============================] - 0s 787us/step - loss: 1.2691 - sparse_categorical_accuracy: 0.4868 - val_loss: 1.1398 - val_sparse_categorical_accuracy: 0.6500\n",
      "Epoch 54/100\n",
      "76/76 [==============================] - 0s 669us/step - loss: 1.2659 - sparse_categorical_accuracy: 0.4868 - val_loss: 1.1350 - val_sparse_categorical_accuracy: 0.6500\n",
      "Epoch 55/100\n",
      "76/76 [==============================] - 0s 709us/step - loss: 1.2628 - sparse_categorical_accuracy: 0.4868 - val_loss: 1.1306 - val_sparse_categorical_accuracy: 0.6500\n",
      "Epoch 56/100\n",
      "76/76 [==============================] - 0s 708us/step - loss: 1.2597 - sparse_categorical_accuracy: 0.4868 - val_loss: 1.1252 - val_sparse_categorical_accuracy: 0.6500\n",
      "Epoch 57/100\n",
      "76/76 [==============================] - 0s 669us/step - loss: 1.2566 - sparse_categorical_accuracy: 0.4868 - val_loss: 1.1211 - val_sparse_categorical_accuracy: 0.6500\n",
      "Epoch 58/100\n",
      "76/76 [==============================] - 0s 682us/step - loss: 1.2536 - sparse_categorical_accuracy: 0.4868 - val_loss: 1.1157 - val_sparse_categorical_accuracy: 0.6500\n",
      "Epoch 59/100\n",
      "76/76 [==============================] - 0s 735us/step - loss: 1.2505 - sparse_categorical_accuracy: 0.4868 - val_loss: 1.1115 - val_sparse_categorical_accuracy: 0.6500\n",
      "Epoch 60/100\n",
      "76/76 [==============================] - 0s 853us/step - loss: 1.2478 - sparse_categorical_accuracy: 0.4868 - val_loss: 1.1067 - val_sparse_categorical_accuracy: 0.6500\n",
      "Epoch 61/100\n",
      "76/76 [==============================] - 0s 787us/step - loss: 1.2450 - sparse_categorical_accuracy: 0.4868 - val_loss: 1.1023 - val_sparse_categorical_accuracy: 0.6500\n",
      "Epoch 62/100\n",
      "76/76 [==============================] - 0s 774us/step - loss: 1.2422 - sparse_categorical_accuracy: 0.4868 - val_loss: 1.0986 - val_sparse_categorical_accuracy: 0.6500\n",
      "Epoch 63/100\n",
      "76/76 [==============================] - 0s 682us/step - loss: 1.2398 - sparse_categorical_accuracy: 0.4868 - val_loss: 1.0947 - val_sparse_categorical_accuracy: 0.6500\n",
      "Epoch 64/100\n",
      "76/76 [==============================] - 0s 723us/step - loss: 1.2374 - sparse_categorical_accuracy: 0.4868 - val_loss: 1.0912 - val_sparse_categorical_accuracy: 0.6500\n",
      "Epoch 65/100\n",
      "76/76 [==============================] - 0s 721us/step - loss: 1.2353 - sparse_categorical_accuracy: 0.4868 - val_loss: 1.0872 - val_sparse_categorical_accuracy: 0.6500\n",
      "Epoch 66/100\n",
      "76/76 [==============================] - 0s 709us/step - loss: 1.2328 - sparse_categorical_accuracy: 0.4868 - val_loss: 1.0839 - val_sparse_categorical_accuracy: 0.6500\n",
      "Epoch 67/100\n",
      "76/76 [==============================] - 0s 682us/step - loss: 1.2305 - sparse_categorical_accuracy: 0.4868 - val_loss: 1.0797 - val_sparse_categorical_accuracy: 0.6500\n",
      "Epoch 68/100\n",
      "76/76 [==============================] - 0s 787us/step - loss: 1.2281 - sparse_categorical_accuracy: 0.4868 - val_loss: 1.0762 - val_sparse_categorical_accuracy: 0.6500\n",
      "Epoch 69/100\n",
      "76/76 [==============================] - 0s 695us/step - loss: 1.2258 - sparse_categorical_accuracy: 0.4868 - val_loss: 1.0716 - val_sparse_categorical_accuracy: 0.6500\n",
      "Epoch 70/100\n",
      "76/76 [==============================] - 0s 709us/step - loss: 1.2234 - sparse_categorical_accuracy: 0.4868 - val_loss: 1.0677 - val_sparse_categorical_accuracy: 0.6500\n",
      "Epoch 71/100\n",
      "76/76 [==============================] - 0s 677us/step - loss: 1.2212 - sparse_categorical_accuracy: 0.4868 - val_loss: 1.0637 - val_sparse_categorical_accuracy: 0.6500\n",
      "Epoch 72/100\n",
      "76/76 [==============================] - 0s 669us/step - loss: 1.2190 - sparse_categorical_accuracy: 0.4868 - val_loss: 1.0601 - val_sparse_categorical_accuracy: 0.6500\n",
      "Epoch 73/100\n",
      "76/76 [==============================] - 0s 656us/step - loss: 1.2168 - sparse_categorical_accuracy: 0.4868 - val_loss: 1.0568 - val_sparse_categorical_accuracy: 0.6500\n",
      "Epoch 74/100\n",
      "76/76 [==============================] - 0s 748us/step - loss: 1.2148 - sparse_categorical_accuracy: 0.4868 - val_loss: 1.0530 - val_sparse_categorical_accuracy: 0.6500\n",
      "Epoch 75/100\n",
      "76/76 [==============================] - 0s 722us/step - loss: 1.2127 - sparse_categorical_accuracy: 0.4868 - val_loss: 1.0492 - val_sparse_categorical_accuracy: 0.6500\n",
      "Epoch 76/100\n",
      "76/76 [==============================] - 0s 709us/step - loss: 1.2108 - sparse_categorical_accuracy: 0.4868 - val_loss: 1.0458 - val_sparse_categorical_accuracy: 0.6500\n",
      "Epoch 77/100\n",
      "76/76 [==============================] - 0s 696us/step - loss: 1.2088 - sparse_categorical_accuracy: 0.4868 - val_loss: 1.0434 - val_sparse_categorical_accuracy: 0.6500\n",
      "Epoch 78/100\n",
      "76/76 [==============================] - 0s 696us/step - loss: 1.2074 - sparse_categorical_accuracy: 0.4868 - val_loss: 1.0410 - val_sparse_categorical_accuracy: 0.6500\n",
      "Epoch 79/100\n",
      "76/76 [==============================] - 0s 709us/step - loss: 1.2056 - sparse_categorical_accuracy: 0.4868 - val_loss: 1.0383 - val_sparse_categorical_accuracy: 0.6500\n",
      "Epoch 80/100\n",
      "76/76 [==============================] - 0s 682us/step - loss: 1.2040 - sparse_categorical_accuracy: 0.4868 - val_loss: 1.0351 - val_sparse_categorical_accuracy: 0.6500\n",
      "Epoch 81/100\n",
      "76/76 [==============================] - 0s 709us/step - loss: 1.2023 - sparse_categorical_accuracy: 0.4868 - val_loss: 1.0325 - val_sparse_categorical_accuracy: 0.6500\n",
      "Epoch 82/100\n",
      "76/76 [==============================] - 0s 682us/step - loss: 1.2007 - sparse_categorical_accuracy: 0.4868 - val_loss: 1.0291 - val_sparse_categorical_accuracy: 0.6500\n",
      "Epoch 83/100\n",
      "76/76 [==============================] - 0s 709us/step - loss: 1.1988 - sparse_categorical_accuracy: 0.4868 - val_loss: 1.0258 - val_sparse_categorical_accuracy: 0.6500\n",
      "Epoch 84/100\n",
      "76/76 [==============================] - 0s 682us/step - loss: 1.1972 - sparse_categorical_accuracy: 0.4868 - val_loss: 1.0227 - val_sparse_categorical_accuracy: 0.6500\n",
      "Epoch 85/100\n",
      "76/76 [==============================] - 0s 685us/step - loss: 1.1956 - sparse_categorical_accuracy: 0.4868 - val_loss: 1.0199 - val_sparse_categorical_accuracy: 0.6500\n",
      "Epoch 86/100\n",
      "76/76 [==============================] - 0s 696us/step - loss: 1.1940 - sparse_categorical_accuracy: 0.4868 - val_loss: 1.0170 - val_sparse_categorical_accuracy: 0.6500\n",
      "Epoch 87/100\n",
      "76/76 [==============================] - 0s 708us/step - loss: 1.1926 - sparse_categorical_accuracy: 0.4868 - val_loss: 1.0141 - val_sparse_categorical_accuracy: 0.6500\n",
      "Epoch 88/100\n",
      "76/76 [==============================] - 0s 722us/step - loss: 1.1912 - sparse_categorical_accuracy: 0.4868 - val_loss: 1.0115 - val_sparse_categorical_accuracy: 0.6500\n",
      "Epoch 89/100\n",
      "76/76 [==============================] - 0s 709us/step - loss: 1.1897 - sparse_categorical_accuracy: 0.4868 - val_loss: 1.0087 - val_sparse_categorical_accuracy: 0.6500\n",
      "Epoch 90/100\n",
      "76/76 [==============================] - 0s 669us/step - loss: 1.1884 - sparse_categorical_accuracy: 0.4868 - val_loss: 1.0070 - val_sparse_categorical_accuracy: 0.6500\n",
      "Epoch 91/100\n"
     ]
    },
    {
     "name": "stdout",
     "output_type": "stream",
     "text": [
      "76/76 [==============================] - 0s 682us/step - loss: 1.1873 - sparse_categorical_accuracy: 0.4868 - val_loss: 1.0048 - val_sparse_categorical_accuracy: 0.6500\n",
      "Epoch 92/100\n",
      "76/76 [==============================] - 0s 682us/step - loss: 1.1861 - sparse_categorical_accuracy: 0.4868 - val_loss: 1.0024 - val_sparse_categorical_accuracy: 0.6500\n",
      "Epoch 93/100\n",
      "76/76 [==============================] - 0s 656us/step - loss: 1.1848 - sparse_categorical_accuracy: 0.4868 - val_loss: 1.0006 - val_sparse_categorical_accuracy: 0.6500\n",
      "Epoch 94/100\n",
      "76/76 [==============================] - 0s 682us/step - loss: 1.1836 - sparse_categorical_accuracy: 0.4868 - val_loss: 0.9989 - val_sparse_categorical_accuracy: 0.6500\n",
      "Epoch 95/100\n",
      "76/76 [==============================] - 0s 696us/step - loss: 1.1826 - sparse_categorical_accuracy: 0.4868 - val_loss: 0.9972 - val_sparse_categorical_accuracy: 0.6500\n",
      "Epoch 96/100\n",
      "76/76 [==============================] - 0s 669us/step - loss: 1.1813 - sparse_categorical_accuracy: 0.4868 - val_loss: 0.9958 - val_sparse_categorical_accuracy: 0.6500\n",
      "Epoch 97/100\n",
      "76/76 [==============================] - 0s 696us/step - loss: 1.1804 - sparse_categorical_accuracy: 0.4868 - val_loss: 0.9942 - val_sparse_categorical_accuracy: 0.6500\n",
      "Epoch 98/100\n",
      "76/76 [==============================] - 0s 696us/step - loss: 1.1794 - sparse_categorical_accuracy: 0.4868 - val_loss: 0.9919 - val_sparse_categorical_accuracy: 0.6500\n",
      "Epoch 99/100\n",
      "76/76 [==============================] - 0s 722us/step - loss: 1.1782 - sparse_categorical_accuracy: 0.4868 - val_loss: 0.9903 - val_sparse_categorical_accuracy: 0.6500\n",
      "Epoch 100/100\n",
      "76/76 [==============================] - 0s 682us/step - loss: 1.1772 - sparse_categorical_accuracy: 0.4868 - val_loss: 0.9888 - val_sparse_categorical_accuracy: 0.6500\n"
     ]
    }
   ],
   "source": [
    "model_6 = Sequential()\n",
    "model_6.add(Dense(1, input_dim=8, kernel_initializer='glorot_uniform', activation='relu'))\n",
    "model_6.add(Dense(2, kernel_initializer='glorot_uniform', activation='relu'))\n",
    "model_6.add(Dense(3, kernel_initializer='glorot_uniform', activation='relu'))\n",
    "model_6.add(Dense(4, kernel_initializer='glorot_uniform', activation='relu'))\n",
    "model_6.add(Dense(5, kernel_initializer='glorot_uniform', activation='relu'))\n",
    "model_6.add(Dense(6, kernel_initializer='glorot_uniform', activation='relu'))\n",
    "model_6.add(Dense(5, kernel_initializer='glorot_uniform',activation='softmax'))\n",
    "# Compile model\n",
    "model_6.compile(loss='sparse_categorical_crossentropy', optimizer='rmsprop', metrics=['sparse_categorical_accuracy'])\n",
    "hist6 = model_6.fit(X_train6,y_train6,validation_data=(X_test6,y_test6),epochs=100,batch_size=5)\n",
    "\n"
   ]
  },
  {
   "cell_type": "code",
   "execution_count": 26,
   "metadata": {
    "ExecuteTime": {
     "end_time": "2020-04-09T10:44:02.443360Z",
     "start_time": "2020-04-09T10:44:02.389191Z"
    }
   },
   "outputs": [
    {
     "name": "stdout",
     "output_type": "stream",
     "text": [
      "0.65\n"
     ]
    }
   ],
   "source": [
    "from sklearn.metrics import f1_score\n",
    "preds = model_6.predict(X_test6)\n",
    "preds = np.array([np.argmax(a) for a in preds])\n",
    "print(f1_score(y_test6,preds,average='micro'))"
   ]
  },
  {
   "cell_type": "code",
   "execution_count": 40,
   "metadata": {
    "ExecuteTime": {
     "end_time": "2020-03-31T14:13:25.751517Z",
     "start_time": "2020-03-31T14:13:25.568516Z"
    }
   },
   "outputs": [
    {
     "data": {
      "image/png": "[encoded data removed]",
      "text/plain": [
       "<Figure size 432x288 with 1 Axes>"
      ]
     },
     "metadata": {
      "needs_background": "light"
     },
     "output_type": "display_data"
    }
   ],
   "source": [
    "\n",
    "plt.plot(hist6.history[\"loss\"],label=\"train_loss\")\n",
    "plt.plot(hist6.history[\"val_loss\"],label=\"val_loss\")\n",
    "plt.title(\"Loss Curve for Personality Type C\")\n",
    "plt.xlabel(\"Epoch #\")\n",
    "plt.ylabel(\"Loss\")\n",
    "plt.legend(loc=\"lower left\")\n",
    "plt.savefig(\"ModelforC.png\")\n",
    "model_6.save('C.h5')"
   ]
  },
  {
   "cell_type": "markdown",
   "metadata": {},
   "source": [
    "# Perform Predictions using the Model"
   ]
  },
  {
   "cell_type": "code",
   "execution_count": 47,
   "metadata": {},
   "outputs": [],
   "source": [
    "import keras.models as models"
   ]
  },
  {
   "cell_type": "code",
   "execution_count": 48,
   "metadata": {},
   "outputs": [],
   "source": [
    "m_N = models.load_model('N.h5')\n",
    "m_E = models.load_model('E.h5')\n",
    "m_O = models.load_model('O.h5')\n",
    "m_A = models.load_model('A.h5')\n",
    "m_C = models.load_model('C.h5')"
   ]
  }
 ],
 "metadata": {
  "kernelspec": {
   "display_name": "Python 3",
   "language": "python",
   "name": "python3"
  },
  "language_info": {
   "codemirror_mode": {
    "name": "ipython",
    "version": 3
   },
   "file_extension": ".py",
   "mimetype": "text/x-python",
   "name": "python",
   "nbconvert_exporter": "python",
   "pygments_lexer": "ipython3",
   "version": "3.6.9"
  },
  "toc": {
   "base_numbering": 1,
   "nav_menu": {},
   "number_sections": true,
   "sideBar": true,
   "skip_h1_title": false,
   "title_cell": "Table of Contents",
   "title_sidebar": "Contents",
   "toc_cell": false,
   "toc_position": {},
   "toc_section_display": true,
   "toc_window_display": false
  },
  "varInspector": {
   "cols": {
    "lenName": 16,
    "lenType": 16,
    "lenVar": 40
   },
   "kernels_config": {
    "python": {
     "delete_cmd_postfix": "",
     "delete_cmd_prefix": "del ",
     "library": "var_list.py",
     "varRefreshCmd": "print(var_dic_list())"
    },
    "r": {
     "delete_cmd_postfix": ") ",
     "delete_cmd_prefix": "rm(",
     "library": "var_list.r",
     "varRefreshCmd": "cat(var_dic_list()) "
    }
   },
   "types_to_exclude": [
    "module",
    "function",
    "builtin_function_or_method",
    "instance",
    "_Feature"
   ],
   "window_display": false
  }
 },
 "nbformat": 4,
 "nbformat_minor": 4
}
